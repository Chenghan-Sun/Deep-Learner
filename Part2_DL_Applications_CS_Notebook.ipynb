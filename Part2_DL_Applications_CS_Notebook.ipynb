{
  "nbformat": 4,
  "nbformat_minor": 0,
  "metadata": {
    "accelerator": "GPU",
    "colab": {
      "name": "Part2_DL_Applications_CS_Notebook.ipynb",
      "provenance": [],
      "collapsed_sections": [],
      "toc_visible": true,
      "include_colab_link": true
    },
    "kernelspec": {
      "display_name": "Python 3",
      "language": "python",
      "name": "python3"
    },
    "language_info": {
      "codemirror_mode": {
        "name": "ipython",
        "version": 3
      },
      "file_extension": ".py",
      "mimetype": "text/x-python",
      "name": "python",
      "nbconvert_exporter": "python",
      "pygments_lexer": "ipython3",
      "version": "3.7.2"
    }
  },
  "cells": [
    {
      "cell_type": "markdown",
      "metadata": {
        "id": "view-in-github",
        "colab_type": "text"
      },
      "source": [
        "<a href=\"https://colab.research.google.com/github/Chenghan-Sun/Deep-Learner/blob/main/Part2_DL_Applications_CS_Notebook.ipynb\" target=\"_parent\"><img src=\"https://colab.research.google.com/assets/colab-badge.svg\" alt=\"Open In Colab\"/></a>"
      ]
    },
    {
      "cell_type": "markdown",
      "metadata": {
        "id": "NBNfS7sm9LYp"
      },
      "source": [
        "# Deep Learning Problem Set"
      ]
    },
    {
      "cell_type": "markdown",
      "metadata": {
        "id": "PnKFU3gm9LYp"
      },
      "source": [
        "## Part II Applied Problems -- 2.1 Text\n",
        "- References:\n",
        "  - https://www.tensorflow.org/tutorials/text/word_embeddings\n",
        "  - https://www.tensorflow.org/tutorials/text/word2vec#prepare_training_data_for_word2vec\n",
        "  - https://www.tensorflow.org/tutorials/text/text_classification_rnn"
      ]
    },
    {
      "cell_type": "code",
      "metadata": {
        "colab": {
          "base_uri": "https://localhost:8080/"
        },
        "id": "HpdBUhFy9LYp",
        "outputId": "0dfe9944-78c8-456e-ecf6-15b1a587c79e"
      },
      "source": [
        "import numpy as np\n",
        "import matplotlib.pyplot as plt\n",
        "import seaborn as sns\n",
        "import os, sys\n",
        "import shutil\n",
        "import re\n",
        "import string\n",
        "import pandas as pd\n",
        "import tqdm\n",
        "os.environ['KMP_DUPLICATE_LIB_OK'] = 'True'\n",
        "\n",
        "from sklearn.manifold import TSNE\n",
        "from sklearn.feature_extraction.text import TfidfVectorizer\n",
        "from sklearn.linear_model import LogisticRegression\n",
        "from sklearn.metrics import f1_score\n",
        "from sklearn.preprocessing import LabelBinarizer\n",
        "from sklearn.model_selection import cross_val_score\n",
        "from sklearn.metrics import classification_report\n",
        "\n",
        "# import warnings\n",
        "import tensorflow as tf\n",
        "print(f\"Version of tf = {tf.version.VERSION}\")\n",
        "from tensorflow import keras\n",
        "from tensorflow.keras.utils import to_categorical\n",
        "from tensorflow.keras import Model, Sequential, layers\n",
        "from tensorflow.keras.layers.experimental.preprocessing import TextVectorization\n",
        "from tensorflow.keras.layers import Dot, Embedding, Flatten\n",
        "from nltk.tokenize.toktok import ToktokTokenizer\n",
        "\n",
        "# test GPU setting\n",
        "physical_devices = tf.config.experimental.list_physical_devices('GPU')\n",
        "print(\"Available GPUs = \", len(physical_devices))\n",
        "tf.config.experimental.set_memory_growth(physical_devices[0], True)"
      ],
      "execution_count": 1,
      "outputs": [
        {
          "output_type": "stream",
          "text": [
            "Version of tf = 2.3.0\n",
            "Available GPUs =  1\n"
          ],
          "name": "stdout"
        }
      ]
    },
    {
      "cell_type": "markdown",
      "metadata": {
        "id": "X8lYfPic-tcw"
      },
      "source": [
        "### 2.1.0 Text Dataset Loading "
      ]
    },
    {
      "cell_type": "code",
      "metadata": {
        "colab": {
          "base_uri": "https://localhost:8080/"
        },
        "id": "PSDLVP0--t9Q",
        "outputId": "0ad111f4-4603-458a-e25f-bd100e548ec0"
      },
      "source": [
        "# load the ”Large Movie Review Dataset\" from tf.Keras file utility\n",
        "\n",
        "url = \"https://ai.stanford.edu/~amaas/data/sentiment/aclImdb_v1.tar.gz\"\n",
        "\n",
        "dataset = tf.keras.utils.get_file(\"aclImdb_v1.tar.gz\", url,\n",
        "                                    untar=True, cache_dir='.',\n",
        "                                    cache_subdir='')\n",
        "\n",
        "dataset_dir = os.path.join(os.path.dirname(dataset), 'aclImdb')\n",
        "os.listdir(dataset_dir)"
      ],
      "execution_count": 2,
      "outputs": [
        {
          "output_type": "execute_result",
          "data": {
            "text/plain": [
              "['train', 'imdbEr.txt', 'test', 'imdb.vocab', 'README']"
            ]
          },
          "metadata": {
            "tags": []
          },
          "execution_count": 2
        }
      ]
    },
    {
      "cell_type": "code",
      "metadata": {
        "id": "_K_MX7IB-zME",
        "colab": {
          "base_uri": "https://localhost:8080/"
        },
        "outputId": "ea012da4-944d-4a7e-fde8-075c1b41ecfd"
      },
      "source": [
        "# remove additional folders \n",
        "\n",
        "train_dir = os.path.join(dataset_dir, 'train')\n",
        "print(f\"Original training dir: {os.listdir(train_dir)}\")\n",
        "\n",
        "remove_dir = os.path.join(train_dir, 'unsup')\n",
        "shutil.rmtree(remove_dir)\n",
        "\n",
        "train_dir = os.path.join(dataset_dir, 'train')\n",
        "print(f\"Cleaned training dir: {os.listdir(train_dir)}\")"
      ],
      "execution_count": 3,
      "outputs": [
        {
          "output_type": "stream",
          "text": [
            "Original training dir: ['labeledBow.feat', 'urls_unsup.txt', 'unsupBow.feat', 'neg', 'urls_neg.txt', 'pos', 'urls_pos.txt', 'unsup']\n",
            "Cleaned training dir: ['labeledBow.feat', 'urls_unsup.txt', 'unsupBow.feat', 'neg', 'urls_neg.txt', 'pos', 'urls_pos.txt']\n"
          ],
          "name": "stdout"
        }
      ]
    },
    {
      "cell_type": "code",
      "metadata": {
        "id": "DmTmTifM_yc3",
        "colab": {
          "base_uri": "https://localhost:8080/"
        },
        "outputId": "d8c32570-77f4-44f5-ea17-e5d978375fe3"
      },
      "source": [
        "# create tf.data.Dataset using tf.keras.preprocessing.text_dataset_from_directory\n",
        "# Use the train directory to create both train and validation datasets with a split of 20% for validation.\n",
        "\n",
        "batch_size_train = 20000\n",
        "batch_size_val = 5000\n",
        "seed = 123\n",
        "\n",
        "train_ds = tf.keras.preprocessing.text_dataset_from_directory(\n",
        "    'aclImdb/train', batch_size=batch_size_train, validation_split=0.2, \n",
        "    subset='training', seed=seed)\n",
        "\n",
        "val_ds = tf.keras.preprocessing.text_dataset_from_directory(\n",
        "    'aclImdb/train', batch_size=batch_size_val, validation_split=0.2, \n",
        "    subset='validation', seed=seed)"
      ],
      "execution_count": 4,
      "outputs": [
        {
          "output_type": "stream",
          "text": [
            "Found 25000 files belonging to 2 classes.\n",
            "Using 20000 files for training.\n",
            "Found 25000 files belonging to 2 classes.\n",
            "Using 5000 files for validation.\n"
          ],
          "name": "stdout"
        }
      ]
    },
    {
      "cell_type": "code",
      "metadata": {
        "colab": {
          "base_uri": "https://localhost:8080/"
        },
        "id": "CQBbqcQrhAfx",
        "outputId": "76bba18e-759d-4607-e658-b3e5748f2fdd"
      },
      "source": [
        "# visualize a few texts from training dataset\n",
        "\n",
        "for text_batch, label_batch in train_ds.take(1):\n",
        "    for i in range(5):\n",
        "        print(label_batch[i].numpy(), text_batch.numpy()[i])"
      ],
      "execution_count": 5,
      "outputs": [
        {
          "output_type": "stream",
          "text": [
            "1 b\"Canadian director Vincenzo Natali took the art-house circuit by storm with the intriguing and astonishingly intelligent Cube, which is my personal favourite SF film of the 90s. It framed the basic conceit of a group of strangers trapped in a maze shaped like a giant cube, shot entirely on one set, and took this idea in fascinating directions. <br /><br />I've been eagerly awaiting Natali's follow-up, and although its taken five years for him to mount another project, I'm delighted to say it was worth the wait. Cypher is a fascinating exploration of one man's place in the world, and how through a completely logical chain of events, finds himself in a situation beyond his control.<br /><br />I don't want to reveal too much about the plot, because one of the joys of Cypher is the different avenues it takes us down. It is so refreshing in this day and age to see a SF film that has more than one idea in it's head. Cypher is such a film.<br /><br />Morgan Sullivan (Jeremy Northam), one of the blandest people to ever walk the planet, is hired by the company DigiCorp. They send him to different parts of America to record different seminars. To his bewilderment, they are unbelievably boring. Covering topics as mundane as shaving cream and cheese.<br /><br />While Morgan is waiting for one seminar, he runs into Rita Foster (an impeccably cast Lucy Liu), the definition of an ice maiden. She gives him the brush-off, but there is something to her he finds irresistible. That's not too surprising considering the dry marriage he is in. <br /><br />When Rita turns up at another one of Morgan's seminars, she tells him his life is not what it appears. And I'm not saying anything more about the plot. To do so would cheapen the impact the rest of the film has on us, as well as the tortuous path that's so much fun to follow.<br /><br />As with Cube, Natali shows quite a talent for encompassing seemingly ordinary people, taking them out of the familiar, and basically seeing what will happen when they're thrust into the unknown. And Cypher follows similar patterns. But it's not a carbon copy of Cube. It has it's own inspiration.<br /><br />Cypher is a film that has more in common with conspiracy thrillers and paranoia stories. One of the great things about Cypher is the way these themes creep into the story without your knowledge. When Morgan realises his false identity is a piece of a much larger puzzle, it's as much of a shock to us as it is to him.<br /><br />One thing that distinguishes Cypher from Cube is how much more polished it is. Where Cube was confined to a minimalist setting and a shoestring budget with a cast of unknowns, Cypher is also on a low budget, but Natali economises it as much as he can, allowing him to broaden the horizon, and launching Morgan on an amazing journey through the labyrinth of his own identity.<br /><br />Natali's direction is exceptional, with a deft hand on the reins. There are some amazing camera angles from above, such as the enormity of the DigiCorp building as a vast, robust office block in conjunction to the insignificant speck that is Morgan standing outside. All the colour appears to have been bled out of the picture, which compliments the tone of the film perfectly as a modern day film-noir.<br /><br />The acting is uniformly excellent throughout. Jeremy Northam is a sympathetic figure from his loveless marriage to questioning his own identity. His performance is excellent because it's so modulated. He literally seems to transform right before our very eyes. From a clinical, spineless wimp to a confident man who will do anything to preserve his new identity.<br /><br />David Hewlett puts in a welcome appearance who made such an impact in Cube. He resides in a secret silo that looks like it was borrowed from Men in Black. His scene is one of the best because it's an exercise in carefully calculated suspense and paranoia. He is a supposed expert in identifying double-agents, and it's a fantastic piece of writing, brilliantly acted by Hewlett. All he has to do is look at Morgan, and we're drawn into his complex mind game.<br /><br />But it's Lucy Liu who's the scene stealer here. Too often she is cast in films where her potential is not utilised to full effect. But in Cypher, she is finally given a character that fits her like a glove. Rita is an aloof, guarded femme fatale that Liu inhabits with relish. I perked up every time she appeared because she is always in control, and can reduce a room to silence by the power of her icy stare alone.<br /><br />Things come to a very gratifying end, that doesn't conclude on an ambiguous note the way Cube did. But Morgan deserves his happy ending. After he's been put through the ringer like this, I cheered for him in the final scene. It's a perfect final moment because it comes as a ray of sunshine after a gloomy 90 minutes.<br /><br />Cypher succeeds on all counts. Engaging, shocking, always entertaining, it's everything that Total Recall wanted to be but wasn't. And it comes as a refreshing antidote to the overwhelming and inexplicable Matrix.<br /><br />A fine follow-up from Natali. And now I'm a committed fan of the man. Superb stuff!\"\n",
            "1 b\"I gave this film 10 not because it is a superbly consistent movie, but for it's pure ability to evoke emotions in its audience. The story of one-woman's-struggle-against-all-odds is an old clich\\xc3\\xa9 by now, but very few films have carried it off with so much warmth and sincerity as The Color Purple.<br /><br />It also showed a different side to the African-American experience - showing that after slaves were granted freedom many fell into the ways of the hated 'white man' and were abusive of their own people. I find this an important point as it goes against the portray-white-on-black-violence-and-win-an-Oscar trend.<br /><br />Also the acting performances are superb - especially Oprah who I now have a new found respect for.<br /><br />Well worth watching - but keep some tissue handy.\"\n",
            "1 b'I admit to being somewhat jaded about the movie genre of a young child softening the heart of his/her reluctant guardian. I\\'ve seen enough of them \\xc2\\x97 Baby Boom, Kolya, About a Boy, Mostly Martha, and to some extent, Whale Rider \\xc2\\x97 to expect to be bored by the formula. What held my attention in The King of Masks was the grimness of the setting: small-town China in the 1930\\'s. Extreme poverty was the norm, and girl children were considered so worthless to poor parents that they killed them at birth or gave them to whomever would take them on the black market. When Wang discovers his purchased grandson, whom he\\'s nicknamed \"Doggie,\" is a granddaughter, he initially casts her out, even though she\\'s showed great promise as street-performing heir. Even after he reluctantly takes her back, he\\'s not too upset when she\\'s kidnapped. The film is gritty then, showing the lengths to which a young, street-smart girl had to go to survive in that society.<br /><br />The two lead performances are believable and beguiling in their societal context. In a Western society, one would expect at least a hint of resentment from Wang at not having achieved more material success. Wang so thoroughly accepts his station as a celebrated artist with low societal status, though, that I did, too. While Doggie exhibits a level of precociousness and cunning that would be suspect in a modern, suburban child, it\\'s completely believable in the context of a kid constantly in survival mode in a society that treats poor girls like garbage. And after learning that her previous seven owners have physically and mentally abused her, her fierce attachment to Wang makes perfect sense.<br /><br />The peek at small-town life in a foreign country, the naturalness of the two lead actors, the surprising plot twists, and of course, the heartwarming resolution all contribute to a very watchable film.'\n",
            "1 b\"For a long time, 'The Menagerie' was my favorite 'Star Trek' episode though in recent years it has been eclipsed by 'City on the Edge of Forever.' What I used to prefer about 'Menagerie' was that it's more hard-core Star Trek with this fascinating back-story to the then-current Trek storyline. I still think it's fairly ingenious the way Gene Roddenberry incorporated the original pilot into a two-part episode. Though the 'new' part of the story is largely an excuse for Kirk and a few others (and us) to watch the pilot, the idea of Spock being court-martialed is a clever one. You can poke holes in the plot if you want. For instance, given the Talosians' mind-control abilities and Captain Pike's condition, why is it even necessary to physically bring Pike back to their planet? And there are other confusing questions about Pike and Commodore Mendez... best to not think too hard about the details and just enjoy ST's only two-parter.\"\n",
            "0 b\"A truly frightening film. Feels as if it were made in the early '90s by a straight person who wanted to show that gays are good, normal, mainstream-aspiring people. Retrograde to the point of being offensive, LTR suggests that monogamy and marriage are the preferred path to salvation for sad, lonely, sex-crazed gays. Wow! Who knew? The supporting characters are caricatures of gay stereotypes (the effeminate buffoon, the bitter, lonely queen, the fag hag, etc.) and the main characters are milquetoast, middle-class, middlebrow clones, of little interest.<br /><br />As far as the romantic & ideological struggles of the main couple are concerned, there's not much to say: we've seen it all before, and done much better.\"\n"
          ],
          "name": "stdout"
        }
      ]
    },
    {
      "cell_type": "code",
      "metadata": {
        "colab": {
          "base_uri": "https://localhost:8080/"
        },
        "id": "wmHz4hgRkRPD",
        "outputId": "75249f8f-3a7a-4b61-bf23-d4555758e7a9"
      },
      "source": [
        "type(train_ds)"
      ],
      "execution_count": 6,
      "outputs": [
        {
          "output_type": "execute_result",
          "data": {
            "text/plain": [
              "tensorflow.python.data.ops.dataset_ops.BatchDataset"
            ]
          },
          "metadata": {
            "tags": []
          },
          "execution_count": 6
        }
      ]
    },
    {
      "cell_type": "code",
      "metadata": {
        "colab": {
          "base_uri": "https://localhost:8080/"
        },
        "id": "OXrcmzxLGsyh",
        "outputId": "2be5a8fb-0f7c-4d8b-c0c7-19ad4bbf9642"
      },
      "source": [
        "for text_batch, label_batch in train_ds.take(2):\n",
        "    print(text_batch.shape)\n",
        "\n",
        "for text_batch, label_batch in val_ds.take(2):\n",
        "    print(text_batch.shape)"
      ],
      "execution_count": 7,
      "outputs": [
        {
          "output_type": "stream",
          "text": [
            "(20000,)\n",
            "(5000,)\n"
          ],
          "name": "stdout"
        }
      ]
    },
    {
      "cell_type": "markdown",
      "metadata": {
        "id": "9DzTKuWL9LYp"
      },
      "source": [
        "### 2.1.1 Visualization\n",
        "\n",
        "- Plot a sample of 1000 data points from the training set (500 positive and 500\n",
        "negative) using t-SNE, and color the points by sentiment label. Comment on any observed trends."
      ]
    },
    {
      "cell_type": "code",
      "metadata": {
        "id": "iXZvBp3yhAiP"
      },
      "source": [
        "# convert the a batch of BatchDataset to iterable object\n",
        "\n",
        "sub_train_ds = train_ds.take(1)\n",
        "sub_train_ds_list = list(sub_train_ds.as_numpy_iterator())"
      ],
      "execution_count": 8,
      "outputs": []
    },
    {
      "cell_type": "code",
      "metadata": {
        "colab": {
          "base_uri": "https://localhost:8080/"
        },
        "id": "NOEvLi20EnnU",
        "outputId": "5fa15a20-d538-4799-df67-88b3e9963be4"
      },
      "source": [
        "# two empty dicts with positive labels and negative labels respectively, \n",
        "# from training dataset\n",
        "pos_sample_train_dict = {}\n",
        "neg_sample_train_dict = {}\n",
        "\n",
        "for idx, (text, label) in enumerate(zip(sub_train_ds_list[0][0], sub_train_ds_list[0][1])):\n",
        "    if len(neg_sample_train_dict.keys()) < 500:\n",
        "        if label == 0:\n",
        "            neg_sample_train_dict[idx] = text\n",
        "\n",
        "    if len(pos_sample_train_dict.keys()) < 500:\n",
        "        if label == 1:\n",
        "            pos_sample_train_dict[idx] = text\n",
        "\n",
        "print(f\"Finish loading positive texts = {len(pos_sample_train_dict.keys())}, \\\n",
        "negative texts = {len(neg_sample_train_dict.keys())}.\")"
      ],
      "execution_count": 9,
      "outputs": [
        {
          "output_type": "stream",
          "text": [
            "Finish loading positive texts = 500, negative texts = 500.\n"
          ],
          "name": "stdout"
        }
      ]
    },
    {
      "cell_type": "code",
      "metadata": {
        "colab": {
          "base_uri": "https://localhost:8080/",
          "height": 204
        },
        "id": "gEPOW7RboWJb",
        "outputId": "7ac5c374-77ce-4fe9-c5c2-1f68cb3dcbb3"
      },
      "source": [
        "# convert dict to df\n",
        "# concat the dfs, with label as feature\n",
        "# show the df of sample pos/neg texts data\n",
        "\n",
        "pos_sample_train_df = pd.DataFrame.from_dict(pos_sample_train_dict, orient='index')\n",
        "neg_sample_train_df = pd.DataFrame.from_dict(neg_sample_train_dict, orient='index')\n",
        "\n",
        "pos_sample_train_df.columns = ['text']\n",
        "neg_sample_train_df.columns = ['text']\n",
        "\n",
        "pos_sample_train_df['label'] = [1 for i in range(500)]\n",
        "neg_sample_train_df['label'] = [0 for i in range(500)]\n",
        "\n",
        "text_sample_train_df = pd.concat([pos_sample_train_df, neg_sample_train_df])\n",
        "\n",
        "# shuffle\n",
        "text_sample_train_df = text_sample_train_df.sample(frac=1) \n",
        "text_sample_train_df.head(5)"
      ],
      "execution_count": 10,
      "outputs": [
        {
          "output_type": "execute_result",
          "data": {
            "text/html": [
              "<div>\n",
              "<style scoped>\n",
              "    .dataframe tbody tr th:only-of-type {\n",
              "        vertical-align: middle;\n",
              "    }\n",
              "\n",
              "    .dataframe tbody tr th {\n",
              "        vertical-align: top;\n",
              "    }\n",
              "\n",
              "    .dataframe thead th {\n",
              "        text-align: right;\n",
              "    }\n",
              "</style>\n",
              "<table border=\"1\" class=\"dataframe\">\n",
              "  <thead>\n",
              "    <tr style=\"text-align: right;\">\n",
              "      <th></th>\n",
              "      <th>text</th>\n",
              "      <th>label</th>\n",
              "    </tr>\n",
              "  </thead>\n",
              "  <tbody>\n",
              "    <tr>\n",
              "      <th>951</th>\n",
              "      <td>b'There is a reason why this made for British ...</td>\n",
              "      <td>0</td>\n",
              "    </tr>\n",
              "    <tr>\n",
              "      <th>841</th>\n",
              "      <td>b\"my friend bought the movie for 5\\xc2\\x80 (it...</td>\n",
              "      <td>0</td>\n",
              "    </tr>\n",
              "    <tr>\n",
              "      <th>488</th>\n",
              "      <td>b\"Tom and Butch Cat fight over the capture of ...</td>\n",
              "      <td>1</td>\n",
              "    </tr>\n",
              "    <tr>\n",
              "      <th>97</th>\n",
              "      <td>b'Slaughter High is about a boy named Marty. H...</td>\n",
              "      <td>1</td>\n",
              "    </tr>\n",
              "    <tr>\n",
              "      <th>760</th>\n",
              "      <td>b'This movie shows how racist John Singleton i...</td>\n",
              "      <td>0</td>\n",
              "    </tr>\n",
              "  </tbody>\n",
              "</table>\n",
              "</div>"
            ],
            "text/plain": [
              "                                                  text  label\n",
              "951  b'There is a reason why this made for British ...      0\n",
              "841  b\"my friend bought the movie for 5\\xc2\\x80 (it...      0\n",
              "488  b\"Tom and Butch Cat fight over the capture of ...      1\n",
              "97   b'Slaughter High is about a boy named Marty. H...      1\n",
              "760  b'This movie shows how racist John Singleton i...      0"
            ]
          },
          "metadata": {
            "tags": []
          },
          "execution_count": 10
        }
      ]
    },
    {
      "cell_type": "code",
      "metadata": {
        "colab": {
          "base_uri": "https://localhost:8080/"
        },
        "id": "XtTP3BV3Enkk",
        "outputId": "b035a216-2db3-4bce-eeec-3a7671691fc6"
      },
      "source": [
        "# Use TF-IDF to obtain a numerical representation for the data\n",
        "# only consider the 5000 most frequently-occuring words in the dataset\n",
        "\n",
        "tfidf_config = TfidfVectorizer(min_df=0, max_df=1, use_idf=True, max_features=5000, ngram_range=(1,1))\n",
        "sample_feature_matrix = tfidf_config.fit_transform(text_sample_train_df['text'])\n",
        "print(f\"Training tf-idf feature matrix dimension = {sample_feature_matrix.shape}\")"
      ],
      "execution_count": 11,
      "outputs": [
        {
          "output_type": "stream",
          "text": [
            "Training tf-idf feature matrix dimension = (1000, 5000)\n"
          ],
          "name": "stdout"
        }
      ]
    },
    {
      "cell_type": "code",
      "metadata": {
        "colab": {
          "base_uri": "https://localhost:8080/"
        },
        "id": "k8tS_W9mrvo8",
        "outputId": "2d785947-39ce-475e-f673-8fd09a159cc8"
      },
      "source": [
        "# Perform t-SNE to reduce the dimensionality down to 2 dimenions\n",
        "\n",
        "tsne = TSNE(n_components=2)\n",
        "tsne_fit = tsne.fit_transform(sample_feature_matrix)\n",
        "print(f\"Reduced feature dimension = {tsne_fit.shape}\")"
      ],
      "execution_count": 12,
      "outputs": [
        {
          "output_type": "stream",
          "text": [
            "Reduced feature dimension = (1000, 2)\n"
          ],
          "name": "stdout"
        }
      ]
    },
    {
      "cell_type": "code",
      "metadata": {
        "colab": {
          "base_uri": "https://localhost:8080/",
          "height": 514
        },
        "id": "GuT_NHvZ9LYp",
        "outputId": "64f60d1b-fe2c-4e01-bb1c-2bed5d1b0e62"
      },
      "source": [
        "# visualize the T-SNE plot \n",
        "\n",
        "tsne_df = pd.DataFrame()\n",
        "tsne_df['tsne-comonent-1'] = tsne_fit[:,0]\n",
        "tsne_df['tsne-comonent-2'] = tsne_fit[:,1]\n",
        "\n",
        "plt.figure(figsize=(12, 8))\n",
        "sns.scatterplot(\n",
        "    x=\"tsne-comonent-1\", y=\"tsne-comonent-2\",\n",
        "    hue=text_sample_train_df['label'],\n",
        "    palette=sns.color_palette(\"hls\", 2),\n",
        "    data=tsne_df,\n",
        "    legend=\"full\",\n",
        "    alpha=0.3\n",
        ")"
      ],
      "execution_count": 13,
      "outputs": [
        {
          "output_type": "execute_result",
          "data": {
            "text/plain": [
              "<matplotlib.axes._subplots.AxesSubplot at 0x7f7fa2d52358>"
            ]
          },
          "metadata": {
            "tags": []
          },
          "execution_count": 13
        },
        {
          "output_type": "display_data",
          "data": {
            "image/png": "[encoded data removed]",
            "text/plain": [
              "<Figure size 864x576 with 1 Axes>"
            ]
          },
          "metadata": {
            "tags": [],
            "needs_background": "light"
          }
        }
      ]
    },
    {
      "cell_type": "markdown",
      "metadata": {
        "id": "IGhpOVWt6ElI"
      },
      "source": [
        "**Comment on any observed trends 2.1.1：**\n",
        "\n",
        "- From the above t-SNE analysis, we cannot really tell the cluster of sentiment labels by words in texts. The first two t-SNE components cannot reflect the True label of the sentence."
      ]
    },
    {
      "cell_type": "markdown",
      "metadata": {
        "id": "FpLLklsb9LYp"
      },
      "source": [
        "### 2.1.2 Baseline models\n",
        "\n",
        "- Use TF-IDF to obtain a numerical representation for the data. Using\n",
        "10-fold cross-validation, report average validation accuracy and F1 scores for a Logistic Regression classifier\n",
        "using the TF-IDF vectors as input."
      ]
    },
    {
      "cell_type": "code",
      "metadata": {
        "colab": {
          "base_uri": "https://localhost:8080/"
        },
        "id": "mUxRxu-69LYp",
        "outputId": "e25b0f0e-ff47-4590-e5d8-aded4fc6f315"
      },
      "source": [
        "# convert the full batches of BatchDataset of train and valid ds to iterable objects\n",
        "# perform the data conversion on train ds\n",
        "full_train_ds_list = list(train_ds.as_numpy_iterator())\n",
        "full_pos_train_ds_dict = {}\n",
        "full_neg_train_ds_dict = {}\n",
        "\n",
        "for idx, (text, label) in enumerate(zip(full_train_ds_list[0][0], full_train_ds_list[0][1])):\n",
        "    if label == 0:\n",
        "        full_neg_train_ds_dict[idx] = text\n",
        "\n",
        "    if label == 1:\n",
        "        full_pos_train_ds_dict[idx] = text\n",
        "\n",
        "print(f\"Finish loading positive texts for training dataset = {len(full_pos_train_ds_dict.keys())}, \\\n",
        "negative texts = {len(full_neg_train_ds_dict.keys())}.\")"
      ],
      "execution_count": 14,
      "outputs": [
        {
          "output_type": "stream",
          "text": [
            "Finish loading positive texts for training dataset = 9943, negative texts = 10057.\n"
          ],
          "name": "stdout"
        }
      ]
    },
    {
      "cell_type": "code",
      "metadata": {
        "colab": {
          "base_uri": "https://localhost:8080/"
        },
        "id": "8lKjIMDz9LYp",
        "outputId": "57a2a8a4-a955-4ee3-fb83-3e522d6d4c74"
      },
      "source": [
        "# perform the data conversion on valid ds\n",
        "\n",
        "full_valid_ds_list = list(val_ds.as_numpy_iterator())\n",
        "full_pos_valid_ds_dict = {}\n",
        "full_neg_valid_ds_dict = {}\n",
        "\n",
        "for idx, (text, label) in enumerate(zip(full_valid_ds_list[0][0], full_valid_ds_list[0][1])):\n",
        "    if label == 0:\n",
        "        full_neg_valid_ds_dict[idx] = text\n",
        "\n",
        "    if label == 1:\n",
        "        full_pos_valid_ds_dict[idx] = text\n",
        "\n",
        "print(f\"Finish loading positive for valid dataset texts = {len(full_pos_valid_ds_dict.keys())}, \\\n",
        "negative texts = {len(full_neg_valid_ds_dict.keys())}.\")"
      ],
      "execution_count": 15,
      "outputs": [
        {
          "output_type": "stream",
          "text": [
            "Finish loading positive for valid dataset texts = 2557, negative texts = 2443.\n"
          ],
          "name": "stdout"
        }
      ]
    },
    {
      "cell_type": "code",
      "metadata": {
        "colab": {
          "base_uri": "https://localhost:8080/"
        },
        "id": "KuXSateJbmDy",
        "outputId": "ebec57d4-2e4b-4f0c-c25b-55db838caee2"
      },
      "source": [
        "# convert all full train/valid dicts to dfs\n",
        "# concat the dfs, with label as feature\n",
        "# show the dfs of sample pos/neg texts data\n",
        "num_train_ds = len(full_train_ds_list[0][1])  # 20000\n",
        "num_valid_ds = len(full_valid_ds_list[0][1])  # 5000\n",
        "\n",
        "# for train set\n",
        "full_pos_train_ds_df = pd.DataFrame.from_dict(full_pos_train_ds_dict, orient='index')\n",
        "full_neg_train_ds_df = pd.DataFrame.from_dict(full_neg_train_ds_dict, orient='index')\n",
        "# for valid set\n",
        "full_pos_valid_ds_df = pd.DataFrame.from_dict(full_pos_valid_ds_dict, orient='index')\n",
        "full_neg_valid_ds_df = pd.DataFrame.from_dict(full_neg_valid_ds_dict, orient='index')\n",
        "\n",
        "# edit column name \n",
        "full_pos_train_ds_df.columns = ['text']\n",
        "full_neg_train_ds_df.columns = ['text']\n",
        "full_pos_valid_ds_df.columns = ['text']\n",
        "full_neg_valid_ds_df.columns = ['text']\n",
        "\n",
        "# add label feature\n",
        "full_pos_train_ds_df['label'] = [1 for i in range(9943)]\n",
        "full_neg_train_ds_df['label'] = [0 for i in range(10057)]\n",
        "full_pos_valid_ds_df['label'] = [1 for i in range(2557)]\n",
        "full_neg_valid_ds_df['label'] = [0 for i in range(2443)]\n",
        "\n",
        "# concat pos/neg dfs\n",
        "full_train_df = pd.concat([full_pos_train_ds_df, full_neg_train_ds_df])\n",
        "full_valid_df = pd.concat([full_pos_valid_ds_df, full_neg_valid_ds_df])\n",
        "\n",
        "# shuffle train/valid dfs \n",
        "full_train_df = full_train_df.sample(frac=1) \n",
        "full_valid_df = full_valid_df.sample(frac=1)\n",
        "\n",
        "# show top 5 data\n",
        "print(full_train_df.head(5))\n",
        "print(full_valid_df.head(5))"
      ],
      "execution_count": 16,
      "outputs": [
        {
          "output_type": "stream",
          "text": [
            "                                                    text  label\n",
            "19140  b'In the questionable comedy vein of Mel Brook...      0\n",
            "973    b'I missed the first 10 or so minutes of the m...      0\n",
            "12982  b'Without \"mental anachronism\", this film whic...      1\n",
            "16224  b'Once in a while, you come upon a movie that ...      1\n",
            "19235  b'My favorite \"Imperialism\" movie and one of t...      1\n",
            "                                                   text  label\n",
            "615   b'This movie was on the Romance channel, and I...      0\n",
            "1465  b'Brilliant technology. But what good does it ...      0\n",
            "1994  b'\"Darkness\" was entertaining to some degree, ...      0\n",
            "1496  b'Despite its flaws, I enjoyed \"Cigarette Burn...      0\n",
            "2905  b'This movie is a lot of fun. The actors reall...      1\n"
          ],
          "name": "stdout"
        }
      ]
    },
    {
      "cell_type": "code",
      "metadata": {
        "colab": {
          "base_uri": "https://localhost:8080/"
        },
        "id": "xJ9vE63E9LYp",
        "outputId": "f2f56059-641f-4bb4-8e80-3323cb3bc038"
      },
      "source": [
        "# Use TF-IDF to obtain a numerical representation for the data\n",
        "# only consider the 5000 most frequently-occuring words in the dataset\n",
        "# use the pre-configurated tf-dif setting in part 2.2.1\n",
        "\n",
        "full_train_feature_matrix = tfidf_config.fit_transform(full_train_df['text'])\n",
        "full_valid_feature_matrix = tfidf_config.fit_transform(full_valid_df['text'])\n",
        "print(f\"Train set tf-idf feature matrix dimension = {full_train_feature_matrix.shape}\")\n",
        "print(f\"Valid set tf-idf feature matrix dimension = {full_valid_feature_matrix.shape}\")"
      ],
      "execution_count": 17,
      "outputs": [
        {
          "output_type": "stream",
          "text": [
            "Train set tf-idf feature matrix dimension = (20000, 5000)\n",
            "Valid set tf-idf feature matrix dimension = (5000, 5000)\n"
          ],
          "name": "stdout"
        }
      ]
    },
    {
      "cell_type": "code",
      "metadata": {
        "colab": {
          "base_uri": "https://localhost:8080/"
        },
        "id": "zZU1M8tS2hzO",
        "outputId": "0bc625ce-0aa3-4fea-c5da-61c5cf3989d7"
      },
      "source": [
        "# train the baseline Logistic Regression classifier using the TF-IDF vectors as input\n",
        "\n",
        "# Config binary labelinzer\n",
        "lb = LabelBinarizer()\n",
        "\n",
        "# apply binarizer on train/valid set labels\n",
        "train_lb= lb.fit_transform(full_train_df['label']).flatten(order='C')\n",
        "valid_lb = lb.fit_transform(full_valid_df['label']).flatten(order='C')\n",
        "\n",
        "# config and fit baseline model LR with CV = 10\n",
        "baseline_LR = LogisticRegression()\n",
        "baseline_LR.fit(full_train_feature_matrix, train_lb)"
      ],
      "execution_count": 18,
      "outputs": [
        {
          "output_type": "execute_result",
          "data": {
            "text/plain": [
              "LogisticRegression(C=1.0, class_weight=None, dual=False, fit_intercept=True,\n",
              "                   intercept_scaling=1, l1_ratio=None, max_iter=100,\n",
              "                   multi_class='auto', n_jobs=None, penalty='l2',\n",
              "                   random_state=None, solver='lbfgs', tol=0.0001, verbose=0,\n",
              "                   warm_start=False)"
            ]
          },
          "metadata": {
            "tags": []
          },
          "execution_count": 18
        }
      ]
    },
    {
      "cell_type": "code",
      "metadata": {
        "colab": {
          "base_uri": "https://localhost:8080/"
        },
        "id": "hdsUgsmt2h1_",
        "outputId": "688faeb9-39c2-4f7f-919e-252ebcd45cd7"
      },
      "source": [
        "# report average accuracy and F1 scores on validation set\n",
        "\n",
        "accuracy = cross_val_score(baseline_LR, full_valid_feature_matrix, valid_lb, cv=10)\n",
        "f1_score = cross_val_score(baseline_LR, full_valid_feature_matrix, valid_lb, cv=10, scoring='f1')\n",
        "print(f\"Average validation accuracy of the baseline Logit classifier = {np.mean(accuracy)}.\")\n",
        "print(f\"Average validation F1 score of the baseline Logit classifier = {np.mean(f1_score)}.\")"
      ],
      "execution_count": 19,
      "outputs": [
        {
          "output_type": "stream",
          "text": [
            "Average validation accuracy of the baseline Logit classifier = 0.5114000000000001.\n",
            "Average validation F1 score of the baseline Logit classifier = 0.6767230806965906.\n"
          ],
          "name": "stdout"
        }
      ]
    },
    {
      "cell_type": "markdown",
      "metadata": {
        "id": "--0H05nebp1g"
      },
      "source": [
        "**Summary on 2.1.2**:\n",
        "\n",
        "\n",
        "For the baseline Logistic Regression classifier using the TF-IDF vectors as input: \n",
        "- Average validation accuracy = 0.5114\n",
        "- Average validation F1 scores = 0.6767"
      ]
    },
    {
      "cell_type": "markdown",
      "metadata": {
        "id": "lmw2BP3d9LYp"
      },
      "source": [
        "### 2.1.3 Embeddings\n",
        "\n",
        "- Implement Word2Vec using Tensorflow, and train it on the text data to produce 32-dimensional word embeddings. \n",
        "- Plot the resulting word vectors using t-SNE. Plot the same 1000 observations as before (500 positive, 500 negative) using t-SNE, but represent each observation as the average of the embeddings for each word in the observation. \n",
        "- Perform the same cross-validation as above (Logistic Regression) and report performance (accuracy, F1), this time using the document-averaged embeddings as\n",
        "input. "
      ]
    },
    {
      "cell_type": "code",
      "metadata": {
        "id": "jLm-LpdRZ7v8"
      },
      "source": [
        "# add general configs\n",
        "\n",
        "SEED = 42 \n",
        "AUTOTUNE = tf.data.experimental.AUTOTUNE"
      ],
      "execution_count": 20,
      "outputs": []
    },
    {
      "cell_type": "code",
      "metadata": {
        "id": "j--lDPCKx0-7",
        "colab": {
          "base_uri": "https://localhost:8080/"
        },
        "outputId": "ddf51a96-1092-4608-e804-92c2842a33d8"
      },
      "source": [
        "# convert the train/valid datasets as text corpus\n",
        "# This part of generated .txt files were attached with this notebook\n",
        "\n",
        "train_cp_txt = open('train_corpus.txt', 'a')\n",
        "valid_cp_txt = open('valid_corpus.txt', 'a')\n",
        "\n",
        "for text_batch, label_batch in train_ds.take(1):\n",
        "    for i in tqdm.tqdm(range(20000)):\n",
        "        single_text = text_batch.numpy()[i]\n",
        "        print(single_text.decode(\"utf-8\"), '\\n', file=train_cp_txt)\n",
        "\n",
        "train_cp_txt.close()\n",
        "\n",
        "for text_batch, label_batch in val_ds.take(1):\n",
        "    for i in tqdm.tqdm(range(5000)):\n",
        "        single_text = text_batch.numpy()[i]\n",
        "        print(single_text.decode(\"utf-8\"), '\\n', file=valid_cp_txt)\n",
        "\n",
        "valid_cp_txt.close()"
      ],
      "execution_count": 21,
      "outputs": [
        {
          "output_type": "stream",
          "text": [
            "100%|██████████| 20000/20000 [08:31<00:00, 39.11it/s]\n",
            "100%|██████████| 5000/5000 [00:20<00:00, 239.16it/s]\n"
          ],
          "name": "stderr"
        }
      ]
    },
    {
      "cell_type": "code",
      "metadata": {
        "colab": {
          "base_uri": "https://localhost:8080/"
        },
        "id": "wfvPbEw8x1Bw",
        "outputId": "1ca49de0-3afc-4906-c1b0-980b8ce03cbe"
      },
      "source": [
        "# show a few corpus examples\n",
        "# the pre-generated file was attached \n",
        "\n",
        "with open('/content/train_corpus.txt') as f: \n",
        "    lines = f.read().splitlines()\n",
        "for line in lines[:5]:\n",
        "    print(line)"
      ],
      "execution_count": 22,
      "outputs": [
        {
          "output_type": "stream",
          "text": [
            "I think part of the reason this movie was made...and is aimed at us gamers who actually play all the Nancy Drew PC games. There's been a lot of movies lately based on video games, and I think this in one of them.<br /><br />So this movie does not follow any book. But it does follow parts of the games. I buy and play every Nancy Drew games as soon as it comes out. And the games are from HerInteractive and are for \"girls who aren't afraid of a mouse!\" And some of these games actually won Parents' Choice Gold Awards. They are not only fun but you can actually learn a thing or two while playing.<br /><br />I took two of my step children with me to go see it and they loved it! The 10 yr. old had started playing her first Nancy Drew game a day before I took her to see the movie, and she was having so much fun playing the game I thought she would enjoy the movie as well. And I was right...she not only loved this movie but couldn't wait to get home to finish her first game and start another one.<br /><br />My other step daughter is only 7 and she also loved the movie but she is still a little to young too play the games yet, but she enjoys watching her sister play at times just to see what's going on.<br /><br />The games are based for children 10 yrs and older. All the games usually get pretty descent reviews and are classified as adventure games. For more information on the games just check out HerInterative Nancy Drew games. So personally I thought the movie was pretty good and I will buy it when it comes out on DVD. \n",
            "\n",
            "The fight scenes play like slow-motion Jackie Chan and the attempts at wit are pathetic (worst pun by far: \"Guess what? This time I heard you coming\"). The stars are a mismatched pair: Brandon Lee, despite the terrible lines he has to say, actually shows traces of charisma and screen charm - things that Dolph Lundgren is completely free of (at least in this movie). Note to the director: in the future, please stay away from any love scenes, especially when your main actress won't do any nudity and you have to rely extensively on a body double. (*1/2) \n",
            "\n",
            "This movie is definately one of my favourite movies in it's kind. The interaction between respectable and morally uncorruptable characters is an ode to chivalry and the honour code amongst thieves and policemen. It treats themes like duty, guilt, word, manipulation and trust like few films have done and, unfortunately, none that I can recall since the death of the 'policial' in the late seventies. The sequence is delicious, down to the essential, living nothing out and thus leading the spectator into a masterful plot right and wrong without accessory eye catching and spectacular scenes that are often needed in lesser specimens of the genre in order to keep the audience awake. No such scenes are present or needed. The argument is flowless and honest to the spectator, wich is an important asset in a genre in wich the the suspense is often achieved through the betrail of the audience. No, this is not miss Marble... A note of congratulations for the music is in order A film to watch and savour every minute, not just to see. \n"
          ],
          "name": "stdout"
        }
      ]
    },
    {
      "cell_type": "code",
      "metadata": {
        "id": "DhSKJz5gTP8s"
      },
      "source": [
        "# Use the non empty lines to construct a tf.data.TextLineDataset object for next steps\n",
        "\n",
        "path_train_corpus = '/content/train_corpus.txt'\n",
        "path_valid_corpus = '/content/valid_corpus.txt'\n",
        "text_train_ds = tf.data.TextLineDataset(path_train_corpus).filter(lambda x: tf.cast(tf.strings.length(x), bool))\n",
        "text_valid_ds = tf.data.TextLineDataset(path_train_corpus).filter(lambda x: tf.cast(tf.strings.length(x), bool))"
      ],
      "execution_count": 23,
      "outputs": []
    },
    {
      "cell_type": "code",
      "metadata": {
        "id": "b-b6SHqkTP6O"
      },
      "source": [
        "# Vectorize sentences from the corpus\n",
        "\n",
        "# Create a custom standardization function to strip HTML break tags '<br />'.\n",
        "def custom_standardization(input_data):\n",
        "    lowercase = tf.strings.lower(input_data)\n",
        "    stripped_html = tf.strings.regex_replace(lowercase, '<br />', ' ')\n",
        "    return tf.strings.regex_replace(stripped_html,\n",
        "                                    '[%s]' % re.escape(string.punctuation), '')\n",
        "    \n",
        "# Define the vocabulary size and number of words in a sequence.\n",
        "vocab_size = 5000\n",
        "sequence_length = 250\n",
        "\n",
        "# Use the text vectorization layer to normalize, split, and map strings to\n",
        "# integers. Set output_sequence_length length to pad all samples to same length.\n",
        "vectorize_layer = TextVectorization(\n",
        "    standardize=custom_standardization,\n",
        "    max_tokens=vocab_size,\n",
        "    output_mode='int',\n",
        "    output_sequence_length=sequence_length)\n",
        "\n",
        "# create vocabulary\n",
        "vectorize_layer.adapt(text_train_ds.batch(1024))"
      ],
      "execution_count": 24,
      "outputs": []
    },
    {
      "cell_type": "code",
      "metadata": {
        "id": "LYMohLQqaFKl",
        "colab": {
          "base_uri": "https://localhost:8080/"
        },
        "outputId": "f8287254-1c0c-4210-8881-0c3516bba576"
      },
      "source": [
        "# Save the created vocabulary for reference\n",
        "\n",
        "inverse_vocab = vectorize_layer.get_vocabulary()\n",
        "print(inverse_vocab[:20])"
      ],
      "execution_count": 25,
      "outputs": [
        {
          "output_type": "stream",
          "text": [
            "['', '[UNK]', 'the', 'and', 'a', 'of', 'to', 'is', 'in', 'it', 'i', 'this', 'that', 'was', 'as', 'with', 'for', 'movie', 'but', 'film']\n"
          ],
          "name": "stdout"
        }
      ]
    },
    {
      "cell_type": "code",
      "metadata": {
        "id": "_jsjEsvYTQAE",
        "colab": {
          "base_uri": "https://localhost:8080/"
        },
        "outputId": "b2df6dc2-ed1d-4489-8dc0-e75928147bbf"
      },
      "source": [
        "# use the vectorize_layer to generate vectors for each element in the text train ds\n",
        "\n",
        "def vectorize_text(text):\n",
        "    text = tf.expand_dims(text, -1)\n",
        "    return tf.squeeze(vectorize_layer(text))\n",
        "\n",
        "text_vector_ds = text_train_ds.batch(1024).prefetch(AUTOTUNE).map(vectorize_layer).unbatch()\n",
        "sequences = list(text_vector_ds.as_numpy_iterator())\n",
        "print(f\"The length of sequences = {len(sequences)}\")\n",
        "\n",
        "# see a few examples \n",
        "for seq in sequences[:1]:\n",
        "    print(f\"{seq} => {[inverse_vocab[i] for i in seq]}\")"
      ],
      "execution_count": 26,
      "outputs": [
        {
          "output_type": "stream",
          "text": [
            "The length of sequences = 20000\n",
            "[  10  102  166    5    2  274   11   17   13    1    7 3671   30  170\n",
            "    1   36  155  291   31    2 2634 2249    1 1480  215   74    4  168\n",
            "    5   91 4038  439   20  393 1480    3   10  102   11    8   28    5\n",
            "   93   37   11   17  120   21  811   98  284   18    9  120  811  510\n",
            "    5    2 1480   10  817    3  291  171 2634 2249 1480   14  505   14\n",
            "    9  253   44    3    2 1480   23   35    1    3   23   16  480   36\n",
            "  678 1592    5    4 3083    3   46    5  128 1480  155 1161  770 1079\n",
            " 1906 2091   34   23   21   60  242   18   22   68  155  799    4  149\n",
            "   41  105  134  380   10  549  105    5   56 1545  469   15   69    6\n",
            "  137   65    9    3   34  434    9    2  302    1  164   67  622  380\n",
            "   39   84 2634 2249  502    4  257  154   10  549   39    6   65    2\n",
            "   17    3   54   13  252   37   72  242  380    2  502   10  197   54\n",
            "   58  351    2   17   14   73    3   10   13    1   21   60  434   11\n",
            "   17   18  414  842    6   76  339    6 1343   39   84  502    3  363\n",
            "  151   28   56   80 1545  578    7   60 1159    3   54   79  434    2\n",
            "   17   18   54    7  126    4  110    6  179  100  291    2 1480  237\n",
            "   18   54 3662  145   39  784  291   30  210   40    6   65  706  165\n",
            "   20    2 1480   23  439   16  469  302    1    3  888   31] => ['i', 'think', 'part', 'of', 'the', 'reason', 'this', 'movie', 'was', '[UNK]', 'is', 'aimed', 'at', 'us', '[UNK]', 'who', 'actually', 'play', 'all', 'the', 'nancy', 'drew', '[UNK]', 'games', 'theres', 'been', 'a', 'lot', 'of', 'movies', 'lately', 'based', 'on', 'video', 'games', 'and', 'i', 'think', 'this', 'in', 'one', 'of', 'them', 'so', 'this', 'movie', 'does', 'not', 'follow', 'any', 'book', 'but', 'it', 'does', 'follow', 'parts', 'of', 'the', 'games', 'i', 'buy', 'and', 'play', 'every', 'nancy', 'drew', 'games', 'as', 'soon', 'as', 'it', 'comes', 'out', 'and', 'the', 'games', 'are', 'from', '[UNK]', 'and', 'are', 'for', 'girls', 'who', 'arent', 'afraid', 'of', 'a', 'mouse', 'and', 'some', 'of', 'these', 'games', 'actually', 'won', 'parents', 'choice', 'gold', 'awards', 'they', 'are', 'not', 'only', 'fun', 'but', 'you', 'can', 'actually', 'learn', 'a', 'thing', 'or', 'two', 'while', 'playing', 'i', 'took', 'two', 'of', 'my', 'step', 'children', 'with', 'me', 'to', 'go', 'see', 'it', 'and', 'they', 'loved', 'it', 'the', '10', '[UNK]', 'old', 'had', 'started', 'playing', 'her', 'first', 'nancy', 'drew', 'game', 'a', 'day', 'before', 'i', 'took', 'her', 'to', 'see', 'the', 'movie', 'and', 'she', 'was', 'having', 'so', 'much', 'fun', 'playing', 'the', 'game', 'i', 'thought', 'she', 'would', 'enjoy', 'the', 'movie', 'as', 'well', 'and', 'i', 'was', '[UNK]', 'not', 'only', 'loved', 'this', 'movie', 'but', 'couldnt', 'wait', 'to', 'get', 'home', 'to', 'finish', 'her', 'first', 'game', 'and', 'start', 'another', 'one', 'my', 'other', 'step', 'daughter', 'is', 'only', '7', 'and', 'she', 'also', 'loved', 'the', 'movie', 'but', 'she', 'is', 'still', 'a', 'little', 'to', 'young', 'too', 'play', 'the', 'games', 'yet', 'but', 'she', 'enjoys', 'watching', 'her', 'sister', 'play', 'at', 'times', 'just', 'to', 'see', 'whats', 'going', 'on', 'the', 'games', 'are', 'based', 'for', 'children', '10', '[UNK]', 'and', 'older', 'all']\n"
          ],
          "name": "stdout"
        }
      ]
    },
    {
      "cell_type": "code",
      "metadata": {
        "id": "P_XyslD7TP-z"
      },
      "source": [
        "# Generates skip-gram pairs with negative sampling for a list of sequences\n",
        "# (int-encoded sentences) based on window size, number of negative samples\n",
        "# and vocabulary size.\n",
        "\n",
        "def generate_training_data(sequences, window_size, num_ns, vocab_size, seed):\n",
        "    # Elements of each training example are appended to these lists.\n",
        "    targets, contexts, labels = [], [], []\n",
        "\n",
        "    # Build the sampling table for vocab_size tokens.\n",
        "    sampling_table = tf.keras.preprocessing.sequence.make_sampling_table(vocab_size)\n",
        "\n",
        "    # Iterate over all sequences (sentences) in dataset.\n",
        "    for sequence in tqdm.tqdm(sequences):\n",
        "\n",
        "        # Generate positive skip-gram pairs for a sequence (sentence).\n",
        "        positive_skip_grams, _ = tf.keras.preprocessing.sequence.skipgrams(\n",
        "            sequence, \n",
        "            vocabulary_size=vocab_size,\n",
        "            sampling_table=sampling_table,\n",
        "            window_size=window_size,\n",
        "            negative_samples=0)\n",
        "        \n",
        "        # Iterate over each positive skip-gram pair to produce training examples \n",
        "        # with positive context word and negative samples.\n",
        "        for target_word, context_word in positive_skip_grams:\n",
        "            context_class = tf.expand_dims(\n",
        "                tf.constant([context_word], dtype=\"int64\"), 1)\n",
        "            negative_sampling_candidates, _, _ = tf.random.log_uniform_candidate_sampler(\n",
        "                true_classes=context_class,\n",
        "                num_true=1, \n",
        "                num_sampled=num_ns, \n",
        "                unique=True, \n",
        "                range_max=vocab_size, \n",
        "                seed=SEED, \n",
        "                name=\"negative_sampling\")\n",
        "\n",
        "            # Build context and label vectors (for one target word)\n",
        "            negative_sampling_candidates = tf.expand_dims(\n",
        "                negative_sampling_candidates, 1)\n",
        "\n",
        "            context = tf.concat([context_class, negative_sampling_candidates], 0)\n",
        "            label = tf.constant([1] + [0]*num_ns, dtype=\"int64\")\n",
        "\n",
        "            # Append each element from the training example to global lists.\n",
        "            targets.append(target_word)\n",
        "            contexts.append(context)\n",
        "            labels.append(label)\n",
        "\n",
        "    return targets, contexts, labels"
      ],
      "execution_count": 27,
      "outputs": []
    },
    {
      "cell_type": "code",
      "metadata": {
        "id": "T88zBSoCkRM2",
        "colab": {
          "base_uri": "https://localhost:8080/"
        },
        "outputId": "fc8c5d4d-7773-433a-9a60-87fcaa5f17d6"
      },
      "source": [
        "# Generate training examples from sequences\n",
        "\n",
        "targets, contexts, labels = generate_training_data(\n",
        "    sequences=sequences, \n",
        "    window_size=2, \n",
        "    num_ns=4, \n",
        "    vocab_size=vocab_size, \n",
        "    seed=SEED)\n",
        "\n",
        "print(len(targets), len(contexts), len(labels))"
      ],
      "execution_count": 28,
      "outputs": [
        {
          "output_type": "stream",
          "text": [
            "100%|██████████| 20000/20000 [12:16<00:00, 27.15it/s]"
          ],
          "name": "stderr"
        },
        {
          "output_type": "stream",
          "text": [
            "1531171 1531171 1531171\n"
          ],
          "name": "stdout"
        },
        {
          "output_type": "stream",
          "text": [
            "\n"
          ],
          "name": "stderr"
        }
      ]
    },
    {
      "cell_type": "code",
      "metadata": {
        "id": "1gKRHgBq9LYp",
        "colab": {
          "base_uri": "https://localhost:8080/"
        },
        "outputId": "c1eb4ca9-abd6-42ea-f6cc-c4584fc02f9f"
      },
      "source": [
        "# Configure the dataset for performance\n",
        "\n",
        "BATCH_SIZE = 1024\n",
        "BUFFER_SIZE = 10000\n",
        "w2v_dataset = tf.data.Dataset.from_tensor_slices(((targets, contexts), labels))\n",
        "w2v_dataset = w2v_dataset.shuffle(BUFFER_SIZE).batch(BATCH_SIZE, drop_remainder=True)\n",
        "print(w2v_dataset)\n",
        "\n",
        "w2v_dataset = w2v_dataset.cache().prefetch(buffer_size=AUTOTUNE)\n",
        "print(w2v_dataset)"
      ],
      "execution_count": 29,
      "outputs": [
        {
          "output_type": "stream",
          "text": [
            "<BatchDataset shapes: (((1024,), (1024, 5, 1)), (1024, 5)), types: ((tf.int32, tf.int64), tf.int64)>\n",
            "<PrefetchDataset shapes: (((1024,), (1024, 5, 1)), (1024, 5)), types: ((tf.int32, tf.int64), tf.int64)>\n"
          ],
          "name": "stdout"
        }
      ]
    },
    {
      "cell_type": "code",
      "metadata": {
        "id": "o1dOQfeB9LYp"
      },
      "source": [
        "# define the Word2Vec class\n",
        "\n",
        "class Word2Vec(Model):\n",
        "    def __init__(self, vocab_size, embedding_dim, num_ns=4):\n",
        "        super(Word2Vec, self).__init__()\n",
        "        self.target_embedding = Embedding(vocab_size, \n",
        "                                        embedding_dim,\n",
        "                                        input_length=1,\n",
        "                                        name=\"w2v_embedding\", )\n",
        "        self.context_embedding = Embedding(vocab_size, \n",
        "                                        embedding_dim, \n",
        "                                        input_length=num_ns+1)\n",
        "        self.dots = Dot(axes=(3,2))\n",
        "        self.flatten = Flatten()\n",
        "\n",
        "    def call(self, pair):\n",
        "        target, context = pair\n",
        "        we = self.target_embedding(target)\n",
        "        ce = self.context_embedding(context)\n",
        "        dots = self.dots([ce, we])\n",
        "        return self.flatten(dots)"
      ],
      "execution_count": 30,
      "outputs": []
    },
    {
      "cell_type": "code",
      "metadata": {
        "colab": {
          "base_uri": "https://localhost:8080/"
        },
        "id": "pXgbIPKkBWni",
        "outputId": "81c94eb7-8fc7-4a15-de51-cd2431a89a9a"
      },
      "source": [
        "# compile the word2vec model and training\n",
        "# generate weight matrices for each of the 5000 vocabularies\n",
        "# train on the text data to produce 32-dimensional word embeddings\n",
        "\n",
        "embedding_dim = 32\n",
        "word2vec = Word2Vec(vocab_size, embedding_dim)\n",
        "word2vec.compile(optimizer='adam',\n",
        "              loss=tf.keras.losses.CategoricalCrossentropy(from_logits=True),\n",
        "              metrics=['accuracy'])\n",
        "\n",
        "# start training\n",
        "tensorboard_callback_w2v = tf.keras.callbacks.TensorBoard(log_dir=\"logs\")\n",
        "word2vec.fit(w2v_dataset, epochs=10, callbacks=[tensorboard_callback_w2v])"
      ],
      "execution_count": null,
      "outputs": [
        {
          "output_type": "stream",
          "text": [
            "Epoch 1/10\n",
            "   1/1495 [..............................] - ETA: 0s - loss: 1.6091 - accuracy: 0.2383WARNING:tensorflow:From /usr/local/lib/python3.6/dist-packages/tensorflow/python/ops/summary_ops_v2.py:1277: stop (from tensorflow.python.eager.profiler) is deprecated and will be removed after 2020-07-01.\n",
            "Instructions for updating:\n",
            "use `tf.profiler.experimental.stop` instead.\n",
            "WARNING:tensorflow:Callbacks method `on_train_batch_end` is slow compared to the batch time (batch time: 0.0120s vs `on_train_batch_end` time: 0.0361s). Check your callbacks.\n",
            "1495/1495 [==============================] - 10s 7ms/step - loss: 1.4859 - accuracy: 0.3557\n",
            "Epoch 2/10\n",
            "1495/1495 [==============================] - 10s 7ms/step - loss: 1.3864 - accuracy: 0.4151\n",
            "Epoch 3/10\n",
            "1495/1495 [==============================] - 10s 7ms/step - loss: 1.3399 - accuracy: 0.4435\n",
            "Epoch 4/10\n",
            "1495/1495 [==============================] - 10s 7ms/step - loss: 1.3059 - accuracy: 0.4618\n",
            "Epoch 5/10\n",
            " 997/1495 [===================>..........] - ETA: 3s - loss: 1.2828 - accuracy: 0.4731"
          ],
          "name": "stdout"
        }
      ]
    },
    {
      "cell_type": "code",
      "metadata": {
        "id": "W-vkDxKrITuw"
      },
      "source": [
        "# get the weights of Embeddings\n",
        "\n",
        "# define a helper function for saving the trained weight matrix\n",
        "def gen_embeddings(sequences, weights, verbose=True):\n",
        "    \"\"\"implement average of the embeddings for each word in the observation\"\"\"\n",
        "    # initialize a container matrix for weights \n",
        "    shape_weights = weights.shape[1]\n",
        "    mat_embedding = np.zeros([len(sequences), shape_weights])\n",
        "    for seq in range(len(sequences)):\n",
        "        sequence = sequences[seq]\n",
        "        # average the 5000 most frequently-occuring words\n",
        "        weights_avg = np.mean(weights[sequence,:], axis=0)\n",
        "        mat_embedding[seq, :] = weights_avg\n",
        "    if verbose:\n",
        "        print(f\"The dimension of generated embeddings = {mat_embedding.shape}.\")\n",
        "    return mat_embedding\n",
        "\n",
        "# get trained weights from word2vec trained model and generate embeddings\n",
        "weights = word2vec.get_layer('w2v_embedding').get_weights()[0]\n",
        "mat_embedding_train = gen_embeddings(sequences, weights)"
      ],
      "execution_count": null,
      "outputs": []
    },
    {
      "cell_type": "code",
      "metadata": {
        "id": "Hk_SqTcNITxS"
      },
      "source": [
        "# in the later part, order to enhance the generalization of trained word2vec model,\n",
        "# use the trained vocab set to reconstruct the validation set\n",
        "\n",
        "# define a function to reconstruct validation sequence\n",
        "def reconstruct_validation_seq(val_text, vocab_train, length_seq):\n",
        "    \"\"\" use the trained vocab set from word2vec model to reconstruct \n",
        "    the validation set, return the tokenized encoded sentence from \n",
        "    validation set \n",
        "    \"\"\"\n",
        "    # tokenize the input text sentence\n",
        "    tokenizer = ToktokTokenizer()\n",
        "    tokens = tokenizer.tokenize(val_text)\n",
        "    single_val_sequence = []\n",
        "    for token in tokens:\n",
        "        index = np.where(np.array(vocab_train) == token)[0]\n",
        "        if len(index) != 0:\n",
        "            single_val_sequence.append(index[0])\n",
        "        # code 'UNK' denoted 1 after encoding \n",
        "        else:\n",
        "            single_val_sequence.append(1)\n",
        "    # length of sequence without encoded words \n",
        "    temp_length_seq = (length_seq - len(tokens))*[0]\n",
        "    # refill to reconstructed original sequence length\n",
        "    single_val_sequence = single_val_sequence + temp_length_seq\n",
        "\n",
        "    return single_val_sequence\n",
        "\n",
        "# provides the vocabulary to build a metadata file with one token per line\n",
        "vocab = vectorize_layer.get_vocabulary()\n",
        "\n",
        "# perform  reconstruction\n",
        "val_sequences = []\n",
        "for text_batch, label_batch in val_ds.take(1):\n",
        "    for i in tqdm.tqdm(range(5000)):\n",
        "        single_text = text_batch.numpy()[i]\n",
        "        # decode the byte type \n",
        "        single_text = single_text.decode(\"utf-8\")\n",
        "        # call the function \n",
        "        single_val_sequence = reconstruct_validation_seq(\n",
        "            val_text=single_text,\n",
        "            vocab_train=vocab,\n",
        "            length_seq=sequence_length\n",
        "        )\n",
        "        val_sequences.append(single_val_sequence)"
      ],
      "execution_count": null,
      "outputs": []
    },
    {
      "cell_type": "code",
      "metadata": {
        "id": "FSfngDN4V5ot"
      },
      "source": [
        "# similar as above code cell for getting training embeddings\n",
        "# apply on validation set \n",
        "\n",
        "mat_embedding_valid = gen_embeddings(val_sequences, weights)"
      ],
      "execution_count": null,
      "outputs": []
    },
    {
      "cell_type": "code",
      "metadata": {
        "id": "hqoh4u30V60q"
      },
      "source": [
        "# Plot the resulting word vectors using t-SNE. \n",
        "# Perform t-SNE to reduce the dimensionality down to 2 dimenions\n",
        "\n",
        "tsne = TSNE(n_components=2)\n",
        "tsne_fit_w2v = tsne.fit_transform(mat_embedding_train[:1000])\n",
        "print(f\"Reduced word2vec model weights dimension = {tsne_fit_w2v.shape}\")"
      ],
      "execution_count": null,
      "outputs": []
    },
    {
      "cell_type": "code",
      "metadata": {
        "id": "8H2JRQ2mV64-"
      },
      "source": [
        "# visualize the word2vec version of T-SNE plot \n",
        "\n",
        "tsne_df_w2v = pd.DataFrame()\n",
        "tsne_df_w2v['tsne-comonent-1'] = tsne_fit_w2v[:,0]\n",
        "tsne_df_w2v['tsne-comonent-2'] = tsne_fit_w2v[:,1]\n",
        "\n",
        "plt.figure(figsize=(12, 8))\n",
        "sns.scatterplot(\n",
        "    x=\"tsne-comonent-1\", y=\"tsne-comonent-2\",\n",
        "    hue=text_sample_train_df['label'],\n",
        "    palette=sns.color_palette(\"hls\", 2),\n",
        "    data=tsne_df_w2v,\n",
        "    legend=\"full\",\n",
        "    alpha=0.3\n",
        ")"
      ],
      "execution_count": null,
      "outputs": []
    },
    {
      "cell_type": "code",
      "metadata": {
        "id": "OIvn4nKCBWuJ"
      },
      "source": [
        "# train the baseline Logistic Regression classifier using\n",
        "# the document-averaged embeddings as input\n",
        "\n",
        "# Config binary labelinzer\n",
        "lb_w2v = LabelBinarizer()\n",
        "\n",
        "# apply binarizer on train/valid set labels\n",
        "train_lb= lb_w2v.fit_transform(full_train_df['label']).flatten(order='C')\n",
        "valid_lb = lb_w2v.fit_transform(full_valid_df['label']).flatten(order='C')\n",
        "\n",
        "# config and fit baseline model LR with CV = 10\n",
        "baseline_LR_w2v = LogisticRegression()\n",
        "baseline_LR_w2v.fit(mat_embedding_train, train_lb)"
      ],
      "execution_count": null,
      "outputs": []
    },
    {
      "cell_type": "code",
      "metadata": {
        "id": "U_tqGJg4BW3F"
      },
      "source": [
        "# report average accuracy and F1 scores on validation set\n",
        "\n",
        "accuracy_w2v = cross_val_score(baseline_LR_w2v, mat_embedding_valid, valid_lb, cv=10)\n",
        "f1_score_w2v = cross_val_score(baseline_LR_w2v, mat_embedding_valid, valid_lb, cv=10, scoring='f1')\n",
        "print(f\"Average validation accuracy of the Logit classifier with \\\n",
        "document-averaged embeddings = {np.mean(accuracy_w2v)}.\")\n",
        "print(f\"Average validation F1 score of the Logit classifier with \\\n",
        "document-averaged embeddings= {np.mean(f1_score_w2v)}.\")"
      ],
      "execution_count": null,
      "outputs": []
    },
    {
      "cell_type": "markdown",
      "metadata": {
        "id": "ZiWWciasZKir"
      },
      "source": [
        "**Summary on the Word2Vec Model 2.1.3**:\n",
        "\n",
        "1. The implementation of Word2Vec using Tensorflow was shown as all code blocks in this section 2.1.3, result in 32-dimensional word embeddings:\n",
        "    - The dimension of generated training embeddings = (20000, 32)\n",
        "    - The dimension of generated validation embeddings = (5000, 32).\n",
        "\n",
        "2. The plot of the resulting word vectors using t-SNE is shown as the figure above in this section, with dataset (500 positive, 500 negative), and represent each observation as the average of the embeddings for each word in the observation. \n",
        "\n",
        "2. For the Logistic Regression classifier with document-averaged embeddings: \n",
        "    - Average validation accuracy = 0.5114\n",
        "    - Average validation F1 scores = 0.6767"
      ]
    },
    {
      "cell_type": "markdown",
      "metadata": {
        "id": "qT_x9S5V9LYp"
      },
      "source": [
        "### 2.1.4 RNN\n",
        "\n",
        "Truncate reviews to a maximum length of 250 words. Train a recurrent neural network on the training data with the following architecture:\n",
        "\n",
        "- LSTM layer, 100 units, tanh activation, sigmoid recurrent activation\n",
        "- Fully-connected layer, 1 unit, sigmoid activation\n",
        "\n",
        "Train with binary cross-entropy loss, using the Adam optimizer. Represent each token as the pretrained word embedding from the previous step. Use the last 10% of the training samples as validation. Do the following:\n",
        "\n",
        "- Print the number of trainable parameters in the model\n",
        "- Evaluate training and validation accuracy at the end of each epoch, and plot them as line plots on the same set of axes.\n",
        "- Evaluate accuracy on the test set.\n",
        "- Show an example from the test set for each class where the model misclassifies.\n",
        "- Comment on any other observations about the model performance."
      ]
    },
    {
      "cell_type": "code",
      "metadata": {
        "id": "Krkm7pxCZ7tr"
      },
      "source": [
        "# reload the train/valid datasets with new batch size = 64\n",
        "# shuffle the data for training and create batches of the (text, label) pairs\n",
        "BATCH_SIZE = 64\n",
        "seed = 123\n",
        "\n",
        "train_ds_rnn = tf.keras.preprocessing.text_dataset_from_directory(\n",
        "    'aclImdb/train', batch_size=BATCH_SIZE, validation_split=0.1, \n",
        "    subset='training', seed=seed)\n",
        "\n",
        "val_ds_rnn = tf.keras.preprocessing.text_dataset_from_directory(\n",
        "    'aclImdb/train', batch_size=BATCH_SIZE, validation_split=0.1, \n",
        "    subset='validation', seed=seed)"
      ],
      "execution_count": null,
      "outputs": []
    },
    {
      "cell_type": "code",
      "metadata": {
        "id": "-tu9M4Uc9LYp"
      },
      "source": [
        "# show a few examples\n",
        "\n",
        "for example, label in train_ds_rnn.take(1):\n",
        "    print('texts: ', example.numpy()[:3])\n",
        "    print('labels: ', label.numpy()[:3])"
      ],
      "execution_count": null,
      "outputs": []
    },
    {
      "cell_type": "code",
      "metadata": {
        "id": "Imd2WhBH9LYp"
      },
      "source": [
        "# Configure the dataset for performance\n",
        "\n",
        "AUTOTUNE = tf.data.experimental.AUTOTUNE\n",
        "train_ds_rnn = train_ds_rnn.cache().prefetch(buffer_size=AUTOTUNE)\n",
        "val_ds_rnn = val_ds_rnn.cache().prefetch(buffer_size=AUTOTUNE)"
      ],
      "execution_count": null,
      "outputs": []
    },
    {
      "cell_type": "code",
      "metadata": {
        "id": "pkqAr4-_ZROb"
      },
      "source": [
        "# Create the text encoder\n",
        "# Truncate reviews to a maximum length of 250 words\n",
        "# Vocabulary size and number of words in a sequence\n",
        "# VOCAB_SIZE = 5000\n",
        "# SEQUENCE_LENGTH = 250\n",
        "\n",
        "# # Create a custom standardization function to strip HTML break tags '<br />'.\n",
        "# def custom_standardization(input_data):\n",
        "#     lowercase = tf.strings.lower(input_data)\n",
        "#     stripped_html = tf.strings.regex_replace(lowercase, '<br />', ' ')\n",
        "#     return tf.strings.regex_replace(stripped_html,\n",
        "#                                     '[%s]' % re.escape(string.punctuation), '')\n",
        "\n",
        "# # Initialize a TextVectorization layer with the desired parameters to vectorize movie reviews\n",
        "# vectorize_layer = TextVectorization(\n",
        "#     standardize=custom_standardization,\n",
        "#     max_tokens=VOCAB_SIZE,\n",
        "#     output_mode = 'int',\n",
        "#     output_sequence_length=SEQUENCE_LENGTH)\n",
        "\n",
        "# # Make a text-only dataset (no labels) and call adapt to build the vocabulary.\n",
        "# text_ds = train_ds_rnn.map(lambda x, y: x)\n",
        "# vectorize_layer.adapt(text_ds)"
      ],
      "execution_count": null,
      "outputs": []
    },
    {
      "cell_type": "code",
      "metadata": {
        "id": "cX0pjczejkqj"
      },
      "source": [
        "# show encoded text after vectorize_layer\n",
        "\n",
        "encoded_example = vectorize_layer(example)[:3].numpy()\n",
        "vocab = np.array(vectorize_layer.get_vocabulary())\n",
        "for n in range(3):\n",
        "    print(\"Original: \", example[n].numpy())\n",
        "    print(\"Round-trip: \", \" \".join(vocab[encoded_example[n]]))"
      ],
      "execution_count": null,
      "outputs": []
    },
    {
      "cell_type": "code",
      "metadata": {
        "id": "E3D_d4PRjksy"
      },
      "source": [
        "# Create the RNN model\n",
        "\n",
        "rnn_model = tf.keras.Sequential([\n",
        "    vectorize_layer,\n",
        "    tf.keras.layers.Embedding(\n",
        "        input_dim=len(vectorize_layer.get_vocabulary()),\n",
        "        output_dim=100),\n",
        "    # LSTM layer, 100 units, tanh activation, sigmoid recurrent activation\n",
        "    tf.keras.layers.Bidirectional(tf.keras.layers.LSTM(\n",
        "        100, activation='tanh', recurrent_activation='sigmoid')), \n",
        "    # Fully-connected layer, 1 unit, sigmoid activation\n",
        "    tf.keras.layers.Dense(1, activation='sigmoid')\n",
        "    ])"
      ],
      "execution_count": null,
      "outputs": []
    },
    {
      "cell_type": "code",
      "metadata": {
        "id": "FXqoIgJVjkup"
      },
      "source": [
        "# Compile with binary cross-entropy loss, using the Adam optimizer\n",
        "\n",
        "rnn_model.compile(loss=tf.keras.losses.BinaryCrossentropy(from_logits=True),\n",
        "              optimizer=tf.keras.optimizers.Adam(1e-4),\n",
        "              metrics=['accuracy'])"
      ],
      "execution_count": null,
      "outputs": []
    },
    {
      "cell_type": "code",
      "metadata": {
        "id": "ShsnmgcNZRVO"
      },
      "source": [
        "# Train the RNN model, save as history object\n",
        "\n",
        "history = rnn_model.fit(train_ds_rnn, epochs=30,\n",
        "                        validation_data=val_ds_rnn, \n",
        "                        validation_steps=30)"
      ],
      "execution_count": null,
      "outputs": []
    },
    {
      "cell_type": "code",
      "metadata": {
        "id": "izohDHsnuaUR"
      },
      "source": [
        "# RNN model Summary \n",
        "# Print the number of trainable parameters in the model\n",
        "\n",
        "rnn_model.summary()"
      ],
      "execution_count": null,
      "outputs": []
    },
    {
      "cell_type": "code",
      "metadata": {
        "id": "Skiq9mDctlqT"
      },
      "source": [
        "# plot training and validation accuracy at the end of each epoch\n",
        "\n",
        "# define a plot helper function\n",
        "def plot_graphs(history, metric):\n",
        "    plt.plot(history.history[metric])\n",
        "    plt.plot(history.history['val_'+metric], '')\n",
        "    plt.xlabel(\"Epochs\")\n",
        "    plt.ylabel(metric)\n",
        "    plt.legend([metric, 'val_'+metric])\n",
        "\n",
        "# plot the epoches accuracy \n",
        "plt.figure(figsize=(10, 6))\n",
        "plot_graphs(history, 'accuracy')\n",
        "plt.ylim(None,1)"
      ],
      "execution_count": null,
      "outputs": []
    },
    {
      "cell_type": "code",
      "metadata": {
        "id": "t-TCOUd2tlsY"
      },
      "source": [
        "# Evaluate accuracy on the test set.\n",
        "\n",
        "test_loss, test_acc = rnn_model.evaluate(val_ds_rnn)\n",
        "print('Test Loss: {}'.format(test_loss))\n",
        "print('Test Accuracy: {}'.format(test_acc))"
      ],
      "execution_count": null,
      "outputs": []
    },
    {
      "cell_type": "code",
      "metadata": {
        "id": "sqq_VbIIwlqo"
      },
      "source": [
        "# Show an example from the test set for each class where the model misclassifies\n",
        "\n",
        "# use trained RNN model to predict on one batch\n",
        "sample_val_ds_rnn = val_ds_rnn.take(1)\n",
        "sample_pred = rnn_model.predict(sample_val_ds_rnn)\n",
        "\n",
        "# record prediction results in a list\n",
        "pred_record = []\n",
        "for i in range(len(sample_pred)):\n",
        "    if sample_pred[i] < 0.5:\n",
        "        pred_record.append(0)\n",
        "    elif sample_pred[i] > 0.5:\n",
        "        pred_record.append(1)\n",
        "    else:\n",
        "        raise Exception(\"Neutral prediction happened!\")"
      ],
      "execution_count": null,
      "outputs": []
    },
    {
      "cell_type": "code",
      "metadata": {
        "id": "KPrfYe39wltA"
      },
      "source": [
        "# get the corresponding tests with True labels\n",
        "\n",
        "sample_valid_text_list = []\n",
        "valid_true_label_list = []\n",
        "for text, label in sample_val_ds_rnn:\n",
        "    sample_valid_text_list.append(text.numpy())\n",
        "    valid_true_label_list.append(label.numpy())\n",
        "\n",
        "# flatten the lists\n",
        "sample_valid_texts = np.array(sample_valid_text_list).flatten(order='C')\n",
        "valid_true_labels = np.array(valid_true_label_list).flatten(order='C')"
      ],
      "execution_count": null,
      "outputs": []
    },
    {
      "cell_type": "code",
      "metadata": {
        "id": "zD3QrDp_m_yI"
      },
      "source": [
        "# extract an example of False Positive text-label pair\n",
        "\n",
        "pos_misc_label_idx = np.where(valid_true_labels==1)[0][0]\n",
        "pos_misc_pred_label_idx = np.where(np.array(pred_record)==0)[0][0]\n",
        "\n",
        "pos_misc_text = sample_valid_texts[pos_misc_label_idx]\n",
        "pos_true_label = valid_true_labels[pos_misc_label_idx]\n",
        "pos_fake_label = pred_record[pos_misc_pred_label_idx]\n",
        "\n",
        "print(f\"The extracted False Negative text = {pos_misc_text}\")\n",
        "print(f\"True label of the text = {pos_true_label}\")\n",
        "print(f\"Pred label of the text = {pos_fake_label}\")"
      ],
      "execution_count": null,
      "outputs": []
    },
    {
      "cell_type": "code",
      "metadata": {
        "id": "zFiYTCkZnV3b"
      },
      "source": [
        "# extract an example of False Negative text-label pair\n",
        "\n",
        "neg_misc_label_idx = np.where(valid_true_labels==0)[0][0]\n",
        "neg_misc_pred_label_idx = np.where(np.array(pred_record)==1)[0][0]\n",
        "\n",
        "neg_misc_text = sample_valid_texts[neg_misc_label_idx]\n",
        "neg_true_label = valid_true_labels[neg_misc_label_idx]\n",
        "neg_fake_label = pred_record[neg_misc_pred_label_idx]\n",
        "\n",
        "print(f\"The extracted False Negative text = {neg_misc_text}\")\n",
        "print(f\"True label of the text = {neg_true_label}\")\n",
        "print(f\"Pred label of the text = {neg_fake_label}\")"
      ],
      "execution_count": null,
      "outputs": []
    },
    {
      "cell_type": "markdown",
      "metadata": {
        "id": "AQ4mbLP9wmbD"
      },
      "source": [
        "**Answers of questions for RNN training 2.1.4**:\n",
        "\n",
        "1. Number of trainable parameters in the RNN baseline model = 661,001, as shown in model summary above.\n",
        "\n",
        "2. Plot of training and validation accuracy at the end of each epoch was shown as above code block.\n",
        "\n",
        "3. Accuracy on the test set = 0.9175, as shown above.\n",
        "\n",
        "4. Example from the test set for each class (positive/negative) where the model misclassifies was shown as upper two code blocks above.\n",
        "\n",
        "5. Comment on any other observations about the model performance:\n",
        "    - Above was the RNN baseline model which only using one LSTM layer. If stacking two or more LSTM layers, I would expect the model to achieve higher accuracy."
      ]
    },
    {
      "cell_type": "markdown",
      "metadata": {
        "id": "PJgHyCEHfCai"
      },
      "source": [
        "- - - - - -  - - - - - - --  -- - - - -- - - -"
      ]
    },
    {
      "cell_type": "markdown",
      "metadata": {
        "id": "Yazpdz5Ye_mb"
      },
      "source": [
        "## Part II Applied Problems -- 2.2 Image\n",
        "\n",
        "- References:\n",
        "  - https://blog.keras.io/building-autoencoders-in-keras.html\n",
        "  - https://blog.tensorflow.org/2018/04/fashion-mnist-with-tfkeras.html"
      ]
    },
    {
      "cell_type": "markdown",
      "metadata": {
        "id": "tJ6QH_QfgB1G"
      },
      "source": [
        "### 2.2.0 Loading Fashion MNIST Dataset"
      ]
    },
    {
      "cell_type": "code",
      "metadata": {
        "id": "N_Cza-26w5-q"
      },
      "source": [
        "# load Fashion MNIST dataset with training set and test set\n",
        "(x_train, y_train), (x_test, y_test) = tf.keras.datasets.fashion_mnist.load_data()\n",
        "print(\"x_train data shape:\", x_train.shape)\n",
        "print(\"y_train label shape:\", y_train.shape)"
      ],
      "execution_count": null,
      "outputs": []
    },
    {
      "cell_type": "markdown",
      "metadata": {
        "id": "yupwmrwZgPYn"
      },
      "source": [
        "This is a dataset of 60,000 28x28 grayscale images of 10 fashion categories, along with a test set of 10,000 images."
      ]
    },
    {
      "cell_type": "code",
      "metadata": {
        "id": "gV-eTOfCfAAI"
      },
      "source": [
        "# visualize the first 25 images from the training set\n",
        "plt.rcParams['image.cmap'] = 'Greys'\n",
        "class_names = ['T-shirt/top', 'Trouser', 'Pullover', 'Dress', 'Coat',\n",
        "               'Sandal', 'Shirt', 'Sneaker', 'Bag', 'Ankle boot']\n",
        "\n",
        "plt.figure(figsize=(10, 10))\n",
        "for i in range(25):\n",
        "    plt.subplot(5,5,i+1)\n",
        "    plt.xticks([])\n",
        "    plt.yticks([])\n",
        "    plt.grid(False)\n",
        "    plt.imshow(x_train[i], cmap=plt.cm.binary)\n",
        "    plt.xlabel(class_names[y_train[i]])\n",
        "    \n",
        "plt.show()"
      ],
      "execution_count": null,
      "outputs": []
    },
    {
      "cell_type": "code",
      "metadata": {
        "id": "QLmoGsEcfSnc"
      },
      "source": [
        "# pre-processing\n",
        "# Normalize the data \n",
        "x_train = x_train.astype('float32') / 255.0\n",
        "x_test = x_test.astype('float32') / 255.0\n",
        "print(f\"Original x training data size = {x_train.shape}.\")\n",
        "print(f\"Original x test data size = {x_test.shape}.\")\n",
        "\n",
        "# reshape with suitable input format\n",
        "x_train = x_train.reshape((len(x_train), np.prod(x_train.shape[1:])))\n",
        "x_test = x_test.reshape((len(x_test), np.prod(x_test.shape[1:])))\n",
        "print(f\"Normalized and reshaped x training data size = {x_train.shape}.\")\n",
        "print(f\"Normalized and reshaped x test data size = {x_test.shape}.\")"
      ],
      "execution_count": null,
      "outputs": []
    },
    {
      "cell_type": "markdown",
      "metadata": {
        "id": "5fi-6naKg0nj"
      },
      "source": [
        "### 2.2.1 Autoencoder\n",
        "\n",
        "- Train a fully-connected autoencoder with ReLU activation and layer sizes (784, 300, 100,3 00, 784) for 10 epochs. \n",
        "- Use mean squared error (MSE) loss."
      ]
    },
    {
      "cell_type": "code",
      "metadata": {
        "id": "-NjXNmisfSst"
      },
      "source": [
        "# Build of a fully-connected autoencoder model\n",
        "\n",
        "def autoencoder_model(input_shape):\n",
        "    \"\"\" Build of a fully-connected autoencoder with ReLU activation \n",
        "    and layer sizes (784, 300, 100, 300, 784); Use mean squared error (MSE) loss. \n",
        "    \"\"\"\n",
        "    model = keras.Sequential()\n",
        "    model.add(layers.InputLayer(input_shape=input_shape))\n",
        "    \n",
        "    # set encoders\n",
        "    model.add(layers.Dense(300, activation='relu'))\n",
        "    encoded = layers.Dense(100, activation='relu')\n",
        "    model.add(encoded)\n",
        "    \n",
        "    # set decoders\n",
        "    model.add(layers.Dense(300, activation='relu'))\n",
        "    decoded = layers.Dense(784, activation='sigmoid')\n",
        "    model.add(decoded)\n",
        "    \n",
        "    # compile the model\n",
        "    model.compile(optimizer='adam', \n",
        "                  loss='mean_squared_error', \n",
        "                  metrics=['accuracy'])\n",
        "    \n",
        "    return model"
      ],
      "execution_count": null,
      "outputs": []
    },
    {
      "cell_type": "code",
      "metadata": {
        "id": "WftaztDhfSyl"
      },
      "source": [
        "# model info\n",
        "autoencoder = autoencoder_model(input_shape=(784,))\n",
        "autoencoder.summary()"
      ],
      "execution_count": null,
      "outputs": []
    },
    {
      "cell_type": "code",
      "metadata": {
        "id": "6kJfASUafS4L"
      },
      "source": [
        "# train the auto encoder with 10 epochs without labels\n",
        "\n",
        "autoencoder.fit(x_train, \n",
        "                x_train,\n",
        "                batch_size=256,\n",
        "                epochs=10,\n",
        "                shuffle=True)"
      ],
      "execution_count": null,
      "outputs": []
    },
    {
      "cell_type": "code",
      "metadata": {
        "id": "Wmv1qF_zfS9i"
      },
      "source": [
        "# Make predictions\n",
        "\n",
        "decoded_mnist = autoencoder.predict(x_train)"
      ],
      "execution_count": null,
      "outputs": []
    },
    {
      "cell_type": "code",
      "metadata": {
        "id": "8wkWs60TfTDv"
      },
      "source": [
        "# visualize the reconstructed inputs and the decoded images representations\n",
        "plt.figure(figsize=(16, 4))\n",
        "\n",
        "for i_class in range(len(class_names)):\n",
        "    # Display original\n",
        "    ax = plt.subplot(2, len(class_names), i_class + 1)\n",
        "    i = np.argwhere(y_train == i_class)[1, 0]\n",
        "    plt.imshow(x_train[i].reshape(28, 28))\n",
        "    plt.gray()\n",
        "    ax.get_yaxis().set_visible(False)\n",
        "\n",
        "    # Display reconstruction\n",
        "    ax = plt.subplot(2, len(class_names), i_class + 1 + len(class_names))\n",
        "    plt.imshow(decoded_mnist[i].reshape(28, 28))\n",
        "    plt.gray()\n",
        "    plt.xlabel(class_names[i_class])\n",
        "    ax.get_yaxis().set_visible(False)\n",
        "\n",
        "plt.show()"
      ],
      "execution_count": null,
      "outputs": []
    },
    {
      "cell_type": "code",
      "metadata": {
        "id": "lfISmlncfTCW"
      },
      "source": [
        "# training the encoder with half of the autoencoder architecture\n",
        "encoder = keras.Sequential()\n",
        "encoder.add(layers.InputLayer(input_shape=(784,)))\n",
        "encoder.add(layers.Dense(300, activation='relu'))\n",
        "encoded = layers.Dense(100, activation='relu')\n",
        "encoder.add(encoded)\n",
        "\n",
        "encoded_mnist = encoder.predict(x_train)"
      ],
      "execution_count": null,
      "outputs": []
    },
    {
      "cell_type": "code",
      "metadata": {
        "id": "9ageZpV-fTAo"
      },
      "source": [
        "# plot the encodings for ten examples of input, each class as 10x10 heatmaps\n",
        "\n",
        "plt.figure(figsize=(16, 4))\n",
        "\n",
        "for i_class in range(len(class_names)):\n",
        "    i = np.argwhere(y_train == i_class)[1, 0]\n",
        "    ax = plt.subplot(1, len(class_names), i_class + 1)\n",
        "    plt.imshow(encoded_mnist[i].reshape((10, 10)))\n",
        "    plt.gray()\n",
        "    plt.xlabel(class_names[i_class])\n",
        "    ax.get_yaxis().set_visible(False)\n",
        "\n",
        "plt.show()"
      ],
      "execution_count": null,
      "outputs": []
    },
    {
      "cell_type": "markdown",
      "metadata": {
        "id": "S344v9oRh4Wm"
      },
      "source": [
        "**Summary 2.2.1**: \n",
        "- From the reconstructed heatmaps for each class of Fashion MNIST dataset, We are losing quite a bit of detail with this basic encoder approach."
      ]
    },
    {
      "cell_type": "markdown",
      "metadata": {
        "id": "eAh7qgwWiSYw"
      },
      "source": [
        "### 2.2.2 Dropout\n",
        "\n",
        "- Retrain the autoencoder with dropout applied to incoming weights to all layers except the input and output layers."
      ]
    },
    {
      "cell_type": "code",
      "metadata": {
        "id": "n3G4tV_OfS8M"
      },
      "source": [
        "# define the autoencoder with dropout layers model\n",
        "\n",
        "def autoencoder_dropout_model(input_shape):\n",
        "    \"\"\" Build of a fully-connected autoencoder with ReLU activation \n",
        "    and layer sizes (784, 300, 100, 300, 784); Use mean squared error (MSE) \n",
        "    loss, with dropout applied to incoming weights to all layers \n",
        "    except the input and output layers\n",
        "    \"\"\"\n",
        "    model = keras.Sequential()\n",
        "    model.add(layers.InputLayer(input_shape=input_shape))\n",
        "    \n",
        "    # set encoders with dropout\n",
        "    model.add(layers.Dense(300, activation='relu'))\n",
        "    model.add(layers.Dropout(0.25))  # first dropout layer\n",
        "    encoded = layers.Dense(100, activation='relu')\n",
        "    model.add(encoded)\n",
        "    model.add(layers.Dropout(0.25))  # second dropout layer\n",
        "    \n",
        "    # set decoders\n",
        "    model.add(layers.Dense(300, activation='relu'))\n",
        "    model.add(layers.Dropout(0.50))  # third dropout layer\n",
        "    decoded = layers.Dense(784, activation='sigmoid')\n",
        "    model.add(decoded)\n",
        "    \n",
        "    # compile the model\n",
        "    model.compile(optimizer='adam', \n",
        "                  loss='mean_squared_error', \n",
        "                  metrics=['accuracy'])\n",
        "    \n",
        "    return model"
      ],
      "execution_count": null,
      "outputs": []
    },
    {
      "cell_type": "code",
      "metadata": {
        "id": "4XU09CPafS2n"
      },
      "source": [
        "# model info\n",
        "\n",
        "autoencoder_dropout = autoencoder_dropout_model(input_shape=(784,))\n",
        "autoencoder_dropout.summary()"
      ],
      "execution_count": null,
      "outputs": []
    },
    {
      "cell_type": "code",
      "metadata": {
        "id": "3wzPVXQtfS1Z"
      },
      "source": [
        "# train the with-dropout auto encoder with 10 epochs without labels\n",
        "\n",
        "autoencoder_dropout.fit(x_train, \n",
        "                x_train,\n",
        "                batch_size=256,\n",
        "                epochs=10,\n",
        "                shuffle=True)"
      ],
      "execution_count": null,
      "outputs": []
    },
    {
      "cell_type": "code",
      "metadata": {
        "id": "Bh-GwqS0fSxT"
      },
      "source": [
        "# Make predictions\n",
        "\n",
        "decoded_mnist = autoencoder_dropout.predict(x_train)"
      ],
      "execution_count": null,
      "outputs": []
    },
    {
      "cell_type": "code",
      "metadata": {
        "id": "W9o-taXRfSvL"
      },
      "source": [
        "# visualize the reconstructed inputs and the decoded images representations\n",
        "plt.figure(figsize=(16, 4))\n",
        "\n",
        "for i_class in range(len(class_names)):\n",
        "    # Display original\n",
        "    ax = plt.subplot(2, len(class_names), i_class + 1)\n",
        "    i = np.argwhere(y_train == i_class)[1, 0]\n",
        "    plt.imshow(x_train[i].reshape(28, 28))\n",
        "    plt.gray()\n",
        "    ax.get_yaxis().set_visible(False)\n",
        "\n",
        "    # Display reconstruction\n",
        "    ax = plt.subplot(2, len(class_names), i_class + 1 + len(class_names))\n",
        "    plt.imshow(decoded_mnist[i].reshape(28, 28))\n",
        "    plt.gray()\n",
        "    plt.xlabel(class_names[i_class])\n",
        "    ax.get_yaxis().set_visible(False)\n",
        "\n",
        "plt.show()"
      ],
      "execution_count": null,
      "outputs": []
    },
    {
      "cell_type": "code",
      "metadata": {
        "id": "Ns-QzH3SijFR"
      },
      "source": [
        "# training the encoder with half of the autoencoder architecture\n",
        "encoder = keras.Sequential()\n",
        "encoder.add(layers.InputLayer(input_shape=(784,)))\n",
        "encoder.add(layers.Dense(300, activation='relu'))\n",
        "encoder.add(layers.Dropout(0.25))\n",
        "encoded = layers.Dense(100, activation='relu')\n",
        "encoder.add(encoded)\n",
        "\n",
        "encoded_mnist = encoder.predict(x_train)"
      ],
      "execution_count": null,
      "outputs": []
    },
    {
      "cell_type": "code",
      "metadata": {
        "id": "yUrFby8zijNd"
      },
      "source": [
        "# plot the encodings for ten examples of input, each class as 10x10 heatmaps, \n",
        "# display the same plots as section 2.2.1\n",
        "\n",
        "plt.figure(figsize=(16, 4))\n",
        "\n",
        "for i_class in range(len(class_names)):\n",
        "    i = np.argwhere(y_train == i_class)[1, 0]\n",
        "    ax = plt.subplot(1, len(class_names), i_class + 1)\n",
        "    plt.imshow(encoded_mnist[i].reshape((10, 10)))\n",
        "    plt.gray()\n",
        "    plt.xlabel(class_names[i_class])\n",
        "    ax.get_yaxis().set_visible(False)\n",
        "\n",
        "plt.show()"
      ],
      "execution_count": null,
      "outputs": []
    },
    {
      "cell_type": "markdown",
      "metadata": {
        "id": "x2-hwXu4i2UV"
      },
      "source": [
        "**Summary of 2.2.2**: \n",
        "  \n",
        "From the reconstructed heatmaps for each class of Fashion MNIST dataset with dropout layers applied to incoming weights to all layers\n",
        "except the input and output layers:\n",
        "- I set dropout rate of 0.25, 0.25, and 0.5 for the three dropout layers.\n",
        "- From the training epochs logs above, comparing with the autoencoder without any dropout layers, a greater MSE but higher training accuracy was achieved. \n",
        "- I conclude that the dropout layers worked as regularizer on neural nets that reduces the odds of overfitting by dropping out neurons at random, during every epoch."
      ]
    },
    {
      "cell_type": "markdown",
      "metadata": {
        "id": "lsAm9fWvi2db"
      },
      "source": [
        "### 2.2.3 CNN (baseline) \n",
        "Train a convolutional neural network on the training data with the\n",
        "following layer specifications:\n",
        "- 2D convolutional layer, 28 filters, 3x3 window size, ReLU activation\n",
        "- 2x2 max pooling\n",
        "- 2D convolutional layer, 56 filters, 3x3 window size, ReLU activation\n",
        "- fully-connected layer, 56 nodes, ReLU activation\n",
        "- fully-connected layer, 10 nodes, softmax activation\n",
        "\n",
        "Use the Adam optimizer, 32 observations per batch, and sparse categorical cross-entropy loss."
      ]
    },
    {
      "cell_type": "code",
      "metadata": {
        "id": "cODn42j0ijWr"
      },
      "source": [
        "# re-load Fashion MNIST data for new data pre-processing\n",
        "\n",
        "(x_train, y_train), (x_test, y_test) = tf.keras.datasets.fashion_mnist.load_data()\n",
        "print(\"x_train data shape:\", x_train.shape)\n",
        "print(\"y_train label shape:\", y_train.shape)"
      ],
      "execution_count": null,
      "outputs": []
    },
    {
      "cell_type": "code",
      "metadata": {
        "id": "nTjXSfq_ijVY"
      },
      "source": [
        "# pre-processing\n",
        "# Normalize the data \n",
        "x_train = x_train.astype('float32') / 255.0\n",
        "x_test = x_test.astype('float32') / 255.0\n",
        "print(f\"Original x training data size = {x_train.shape}.\")\n",
        "print(f\"Original x test data size = {x_test.shape}.\")\n",
        "\n",
        "# reshape images with suitable input format\n",
        "x_train = x_train.reshape(len(x_train), 28, 28, 1)\n",
        "x_test = x_test.reshape(len(x_test), 28, 28, 1)\n",
        "print(f\"Normalized and reshaped x training data size = {x_train.shape}.\")\n",
        "print(f\"Normalized and reshaped x test data size = {x_test.shape}.\")\n",
        "\n",
        "# use the last 12000 samples of the training data as a validation set\n",
        "x_train = x_train[:-12000]\n",
        "x_valid = x_train[-12000:]  # last 12000 samples\n",
        "y_train = y_train[:-12000]\n",
        "y_valid = y_train[-12000:]  # last 12000 samples\n",
        "print(f\"New training image set size = {x_train.shape}.\")\n",
        "print(f\"New training label set size = {y_train.shape}.\")\n",
        "print(f\"New validation image set size = {x_valid.shape}.\")\n",
        "print(f\"New validation label set size = {y_valid.shape}.\")\n",
        "print(f\"Left test image set size = {x_test.shape}.\")\n",
        "print(f\"Left test label set size = {y_test.shape}.\")"
      ],
      "execution_count": null,
      "outputs": []
    },
    {
      "cell_type": "code",
      "metadata": {
        "id": "uZUXCqX6ijSO"
      },
      "source": [
        "# define the CNN baseline model\n",
        "\n",
        "def cnn_baseline_model(input_shape):\n",
        "    \"\"\" Build the CNN baseline model as provided layer details:\n",
        "    - 2D convolutional layer, 28 filters, 3x3 window size, ReLU activation\n",
        "    - 2x2 max pooling\n",
        "    - 2D convolutional layer, 56 filters, 3x3 window size, ReLU activation\n",
        "    - fully-connected layer, 56 nodes, ReLU activation\n",
        "    - fully-connected layer, 10 nodes, softmax activation\n",
        "    with the Adam optimizer, and sparse categorical cross-entropy loss.\n",
        "    \"\"\"\n",
        "    model = keras.Sequential()\n",
        "    \n",
        "    # define the input shape in the first layer of the neural network\n",
        "    model.add(layers.Conv2D(28, (3, 3), activation='relu', padding='same', input_shape=input_shape))\n",
        "    model.add(layers.MaxPooling2D((2, 2), padding='same'))\n",
        "    model.add(layers.Conv2D(56, (3, 3), activation='relu', padding='same'))\n",
        "\n",
        "    # transforms the format of the images from a two-dimensional array \n",
        "    # (of 28 by 28 pixels) to a one-dimensional array (of 28 * 28 = 784 pixels)\n",
        "    model.add(tf.keras.layers.Flatten())\n",
        "\n",
        "    model.add(layers.Dense(56, activation='relu'))\n",
        "    model.add(layers.Dense(10, activation='softmax'))\n",
        "    \n",
        "    # compile the model\n",
        "    model.compile(optimizer='adam', \n",
        "                  loss=keras.losses.SparseCategoricalCrossentropy(), \n",
        "                  metrics=['accuracy'])\n",
        "    \n",
        "    return model"
      ],
      "execution_count": null,
      "outputs": []
    },
    {
      "cell_type": "code",
      "metadata": {
        "id": "MkfBGtsnijQf"
      },
      "source": [
        "# Print the number of trainable parameters in the model\n",
        "\n",
        "cnn_baseline = cnn_baseline_model(input_shape=(28,28,1))\n",
        "cnn_baseline.summary()"
      ],
      "execution_count": null,
      "outputs": []
    },
    {
      "cell_type": "code",
      "metadata": {
        "id": "a1razv1FijMH"
      },
      "source": [
        "# train the CNN baseline model with 32 observations per batch for 10 epochs\n",
        "\n",
        "history = cnn_baseline.fit(x_train, \n",
        "                           y_train,\n",
        "                           batch_size=32,\n",
        "                           epochs=10,\n",
        "                           shuffle=True,\n",
        "                           validation_data=(x_valid, y_valid),\n",
        "                           verbose=2)"
      ],
      "execution_count": null,
      "outputs": []
    },
    {
      "cell_type": "code",
      "metadata": {
        "id": "Gc5FFpgHijJn"
      },
      "source": [
        "# plot training and validation accuracy as line plots on the same set of axes\n",
        "\n",
        "plt.figure(figsize=(10, 6))\n",
        "\n",
        "plt.plot(history.history['accuracy'])\n",
        "plt.plot(history.history['val_accuracy'])\n",
        "plt.title(\"Model Accuracy\", fontsize=16)\n",
        "plt.xlabel('Epochs', fontsize=14)\n",
        "plt.ylabel('Accuracy', fontsize=14)\n",
        "plt.legend(['Train', 'Test'], fontsize=14)\n",
        "plt.show()"
      ],
      "execution_count": null,
      "outputs": []
    },
    {
      "cell_type": "code",
      "metadata": {
        "id": "jGvvpEyxijDF"
      },
      "source": [
        "# Evaluating the CNN baseline model\n",
        "\n",
        "score = cnn_baseline.evaluate(x_test, y_test)\n",
        "print('Loss: {:.4f}'.format(score[0]))\n",
        "print('Accuracy: {:.4f}'.format(score[1]))"
      ],
      "execution_count": null,
      "outputs": []
    },
    {
      "cell_type": "code",
      "metadata": {
        "id": "OcqsXNxuijAw"
      },
      "source": [
        "# Show an example from the test set for each class where the model misclassifies\n",
        "\n",
        "# define the label dict\n",
        "cloth_dict = {0 : 'T-shirt/top',\n",
        "            1 : 'Trouser',\n",
        "            2 : 'Pullover',\n",
        "            3 : 'Dress',\n",
        "            4 : 'Coat',\n",
        "            5 : 'Sandal',\n",
        "            6 : 'Shirt',\n",
        "            7 : 'Sneaker',\n",
        "            8 : 'Bag',\n",
        "            9 : 'Ankle boot'}\n",
        "\n",
        "# change y_test to categorical data\n",
        "y_test_cat = to_categorical(y_test, num_classes=10)\n",
        "\n",
        "# Predict the values from the validation dataset\n",
        "y_pred = cnn_baseline.predict(x_test)\n",
        "\n",
        "# Convert predictions classes and validation observations to one hot vectors\n",
        "y_pred_classes = np.argmax(y_pred, axis=1) \n",
        "y_true = np.argmax(y_test_cat, axis=1)"
      ],
      "execution_count": null,
      "outputs": []
    },
    {
      "cell_type": "code",
      "metadata": {
        "id": "1Vmy7cuxkHl7"
      },
      "source": [
        "incorrect_labels = []  # record index of incorrect labels\n",
        "temp_y_true = []  # record unique class of true labels\n",
        "\n",
        "for i in range(10000):\n",
        "    if not (y_pred_classes[i] == y_true[i]):\n",
        "        if y_true[i] in temp_y_true:\n",
        "            pass\n",
        "        else:\n",
        "            incorrect_labels.append(i)\n",
        "            temp_y_true.append(y_true[i])\n",
        "    if (len(set(temp_y_true)) == 10):\n",
        "        break\n",
        "\n",
        "print(f\"The collected unique misclassified one-hot labels = {incorrect_labels}.\")"
      ],
      "execution_count": null,
      "outputs": []
    },
    {
      "cell_type": "code",
      "metadata": {
        "id": "L39kodLCkH2t"
      },
      "source": [
        "# make the misclassification matrix\n",
        "\n",
        "fig, ax = plt.subplots(2, 5, figsize=(12, 6))\n",
        "fig.set_size_inches(16, 9)\n",
        "\n",
        "ax[0,0].imshow(x_test[incorrect_labels[0]].reshape(28,28), cmap='gray')\n",
        "ax[0,0].set_title(\"Predicted Label: \" + str(cloth_dict[y_pred_classes[incorrect_labels[0]]]) + \"\\n\"+\"Actual Label: \" + \n",
        "                 str(cloth_dict[y_true[incorrect_labels[0]]]))\n",
        "\n",
        "ax[0,1].imshow(x_test[incorrect_labels[1]].reshape(28,28), cmap='gray')\n",
        "ax[0,1].set_title(\"Predicted Label: \" + str(cloth_dict[y_pred_classes[incorrect_labels[1]]]) + \"\\n\"+\"Actual Label: \" + \n",
        "                 str(cloth_dict[y_true[incorrect_labels[1]]]))\n",
        "\n",
        "ax[0,2].imshow(x_test[incorrect_labels[2]].reshape(28,28), cmap='gray')\n",
        "ax[0,2].set_title(\"Predicted Label: \" + str(cloth_dict[y_pred_classes[incorrect_labels[2]]]) + \"\\n\"+\"Actual Label: \" + \n",
        "                 str(cloth_dict[y_true[incorrect_labels[2]]]))\n",
        "\n",
        "ax[0,3].imshow(x_test[incorrect_labels[3]].reshape(28,28), cmap='gray')\n",
        "ax[0,3].set_title(\"Predicted Label: \" + str(cloth_dict[y_pred_classes[incorrect_labels[3]]]) + \"\\n\"+\"Actual Label: \" + \n",
        "                 str(cloth_dict[y_true[incorrect_labels[3]]]))\n",
        "\n",
        "ax[0,4].imshow(x_test[incorrect_labels[4]].reshape(28,28), cmap='gray')\n",
        "ax[0,4].set_title(\"Predicted Label: \" + str(cloth_dict[y_pred_classes[incorrect_labels[4]]]) + \"\\n\"+\"Actual Label: \" + \n",
        "                 str(cloth_dict[y_true[incorrect_labels[4]]]))\n",
        "\n",
        "ax[1,0].imshow(x_test[incorrect_labels[5]].reshape(28,28), cmap='gray')\n",
        "ax[1,0].set_title(\"Predicted Label: \" + str(cloth_dict[y_pred_classes[incorrect_labels[5]]]) + \"\\n\"+\"Actual Label: \" + \n",
        "                 str(cloth_dict[y_true[incorrect_labels[5]]]))\n",
        "\n",
        "ax[1,1].imshow(x_test[incorrect_labels[6]].reshape(28,28), cmap='gray')\n",
        "ax[1,1].set_title(\"Predicted Label: \" + str(cloth_dict[y_pred_classes[incorrect_labels[6]]]) + \"\\n\"+\"Actual Label: \" + \n",
        "                 str(cloth_dict[y_true[incorrect_labels[6]]]))\n",
        "\n",
        "ax[1,2].imshow(x_test[incorrect_labels[7]].reshape(28,28), cmap='gray')\n",
        "ax[1,2].set_title(\"Predicted Label: \" + str(cloth_dict[y_pred_classes[incorrect_labels[7]]]) + \"\\n\"+\"Actual Label: \" + \n",
        "                 str(cloth_dict[y_true[incorrect_labels[7]]]))\n",
        "\n",
        "ax[1,3].imshow(x_test[incorrect_labels[8]].reshape(28,28), cmap='gray')\n",
        "ax[1,3].set_title(\"Predicted Label: \" + str(cloth_dict[y_pred_classes[incorrect_labels[8]]]) + \"\\n\"+\"Actual Label: \" + \n",
        "                 str(cloth_dict[y_true[incorrect_labels[8]]]))\n",
        "\n",
        "ax[1,4].imshow(x_test[incorrect_labels[9]].reshape(28,28), cmap='gray')\n",
        "ax[1,4].set_title(\"Predicted Label: \" + str(cloth_dict[y_pred_classes[incorrect_labels[9]]]) + \"\\n\"+\"Actual Label: \" + \n",
        "                 str(cloth_dict[y_true[incorrect_labels[9]]]))"
      ],
      "execution_count": null,
      "outputs": []
    },
    {
      "cell_type": "code",
      "metadata": {
        "id": "rAa4Dy-jkH0d"
      },
      "source": [
        "# Classification Report\n",
        "\n",
        "print(classification_report(y_true, y_pred_classes, target_names=class_names))"
      ],
      "execution_count": null,
      "outputs": []
    },
    {
      "cell_type": "markdown",
      "metadata": {
        "id": "bhtgnY2blFqf"
      },
      "source": [
        "**Answer to the questions for 2.2.3**:\n",
        "1. Number of trainable parameters in the CNN baseline model = 629,730, as shown in model summary above.\n",
        "2. Plot of training and validation accuracy at the end of each epoch was shown as above code block.\n",
        "3. Accuracy on the test set = 0.9175, as shown above.\n",
        "4. Figure matrix of an example from the test set for each class where the model misclassifies was shown as above.\n",
        "5. Based on the classification report shown above:\n",
        "  - Trouser and Sandal shared the best precision.\n",
        "  - Trouser, Sandal, Sneaker, and Bag all showed best recall.\n",
        "  - Trouser also showed the best F1 score.\n",
        "  - Shirt showed worst classification statistics."
      ]
    },
    {
      "cell_type": "markdown",
      "metadata": {
        "id": "ZEKbK3yXlF0B"
      },
      "source": [
        "### 2.2.4 CNN (improvements)\n",
        "\n",
        "- Modify the baseline CNN model to obtain at least 91% accuracy\n",
        "on the test set. \n",
        "- Note the above CNN baseline model already achieved 91% + accuracy. "
      ]
    },
    {
      "cell_type": "code",
      "metadata": {
        "id": "rJNW3RAxkHyn"
      },
      "source": [
        "# define the CNN improved model\n",
        "\n",
        "def cnn_improved_model(input_shape):\n",
        "    \"\"\" Build the CNN baseline model as provided layer details:\n",
        "    - 2D convolutional layer, 28 filters, 3x3 window size, ReLU activation\n",
        "    - 2x2 max pooling\n",
        "    - 2D convolutional layer, 56 filters, 3x3 window size, ReLU activation\n",
        "    - fully-connected layer, 56 nodes, ReLU activation\n",
        "    - fully-connected layer, 10 nodes, softmax activation\n",
        "    with the Adam optimizer, and sparse categorical cross-entropy loss.\n",
        "    \"\"\"\n",
        "    model = keras.Sequential()\n",
        "    \n",
        "    # define the input shape in the first layer of the neural network\n",
        "    model.add(layers.Conv2D(32, (3, 3), activation='relu', padding='same', input_shape=input_shape))\n",
        "    model.add(layers.MaxPooling2D((2, 2), padding='same'))\n",
        "    model.add(layers.Dropout(0.25))\n",
        "    model.add(layers.Conv2D(64, (3, 3), activation='relu', padding='same'))\n",
        "    model.add(layers.Conv2D(128, (3, 3), activation='relu'))\n",
        "    model.add(layers.Dropout(0.4))\n",
        "\n",
        "    # transforms the format of the images from a two-dimensional array \n",
        "    # (of 28 by 28 pixels) to a one-dimensional array (of 28 * 28 = 784 pixels)\n",
        "    model.add(tf.keras.layers.Flatten())\n",
        "\n",
        "    model.add(layers.Dense(128, activation='relu'))\n",
        "    model.add(layers.Dropout(0.3))\n",
        "    model.add(layers.Dense(10, activation='softmax'))\n",
        "    \n",
        "    # compile the model\n",
        "    model.compile(optimizer='adam', \n",
        "                  loss=keras.losses.SparseCategoricalCrossentropy(), \n",
        "                  metrics=['accuracy'])\n",
        "    \n",
        "    return model"
      ],
      "execution_count": null,
      "outputs": []
    },
    {
      "cell_type": "code",
      "metadata": {
        "id": "QRe9jtSQkHxO"
      },
      "source": [
        "# Improved CNN model summary\n",
        "\n",
        "cnn_improved = cnn_improved_model(input_shape=(28,28,1))\n",
        "cnn_improved.summary()"
      ],
      "execution_count": null,
      "outputs": []
    },
    {
      "cell_type": "code",
      "metadata": {
        "id": "J8PYTpD_kHv1"
      },
      "source": [
        "# train the CNN improved model with 32 observations per batch for 10 epochs\n",
        "\n",
        "history = cnn_improved.fit(x_train, \n",
        "                           y_train,\n",
        "                           batch_size=64,\n",
        "                           epochs=10,\n",
        "                           shuffle=True,\n",
        "                           validation_data=(x_valid, y_valid),\n",
        "                           verbose=2)"
      ],
      "execution_count": null,
      "outputs": []
    },
    {
      "cell_type": "code",
      "metadata": {
        "id": "8-F0sMNfkHrQ"
      },
      "source": [
        "# Evaluating the CNN improved model\n",
        "\n",
        "score = cnn_improved.evaluate(x_test, y_test)\n",
        "print('Improved CNN model Loss: {:.4f}'.format(score[0]))\n",
        "print('Improved CNN model Accuracy: {:.4f}'.format(score[1]))"
      ],
      "execution_count": null,
      "outputs": []
    },
    {
      "cell_type": "markdown",
      "metadata": {
        "id": "yw87nOD7m8FA"
      },
      "source": [
        "**Improved CNN Model Summary 2.2.4**:\n",
        "- The improved CNN model has test set accuracy = 0.9270.\n",
        "- The detailed model architecture and hyperparameters were implemented inside of the function `cnn_improved_model`.\n",
        "- The justifications were based on:\n",
        "  - Adding Dropout layers before Conv2D layer, Flatten layer, and fully-connected layer.\n",
        "  - Increase the number of filters in Conv2D layers and fully-connected layers.\n",
        "  - Increase the batch size from 32 to 64."
      ]
    }
  ]
}